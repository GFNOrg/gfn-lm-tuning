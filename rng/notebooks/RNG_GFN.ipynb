{
 "cells": [
  {
   "attachments": {},
   "cell_type": "markdown",
   "metadata": {
    "notebookRunGroups": {
     "groupValue": "12"
    }
   },
   "source": [
    "# Random Number Generation Experiments\n"
   ]
  },
  {
   "attachments": {},
   "cell_type": "markdown",
   "metadata": {
    "notebookRunGroups": {
     "groupValue": "2"
    }
   },
   "source": [
    "![RNG diagram](../rng.png)\n"
   ]
  },
  {
   "attachments": {},
   "cell_type": "markdown",
   "metadata": {},
   "source": [
    "## Introduction\n",
    "\n",
    "This notebook sets up experiments comparing different methods for training language models to generate random numbers from specified distributions.\n",
    "\n",
    "We will focus on sampling numbers from various distributions.\n",
    "\n",
    "The models we will compare are:\n",
    "\n",
    "- GFN-fine-tuned LM: Fine-tuned via generative flow networks\n",
    "- Likelihood-trained LM: Supervised-fine-tuned LM\n",
    "- RL-tuned LM: Fine-tuned via reinforcement learning (PPO)\n"
   ]
  },
  {
   "attachments": {},
   "cell_type": "markdown",
   "metadata": {},
   "source": [
    "Several axes of experimentation:\n",
    "\n",
    "- vary the distribution\n",
    "  - discrete: uniform, Poisson, Binomial, Geometric, etc\n",
    "  - continuous: uniform, Gaussian, exponential, etc\n",
    "- vary the hyperparameters of the distribution (in the context)\n",
    "  - Uniform: between 0 and `n_max`\n",
    "  - Poisson: `lambda` between `λ_min` and `λ_max`\n",
    "  - etc\n",
    "- vary the prompt\n",
    "  - 'Randomly generate (uniformly) one single random integer between 0 and {num_test}, and then stop: '\n",
    "  - 'Randomly generate (uniformly) one single random integer in the interval [0, {num_test}]: '\n",
    "  - 'Here is one single random integer sampled uniformly between 0 and {num_test}: '\n",
    "  - \"The following is a random integer drawn uniformly between 0 and {num_test}: \"\n",
    "  - etc\n",
    "- vary the model\n",
    "  - GFN-LM\n",
    "  - PPO\n",
    "  - MLE (SFT)\n"
   ]
  },
  {
   "attachments": {},
   "cell_type": "markdown",
   "metadata": {},
   "source": [
    "## General imports\n"
   ]
  },
  {
   "cell_type": "code",
   "execution_count": 1,
   "metadata": {},
   "outputs": [],
   "source": [
    "import os\n",
    "import sys\n",
    "import hydra\n",
    "from hydra.experimental import initialize, compose\n",
    "import wandb"
   ]
  },
  {
   "cell_type": "code",
   "execution_count": 2,
   "metadata": {},
   "outputs": [
    {
     "name": "stdout",
     "output_type": "stream",
     "text": [
      "/home/mila/y/younesse.kaddar/gfn-lm-tuning\n"
     ]
    }
   ],
   "source": [
    "if (\n",
    "    not os.path.exists(\"gfn-lm-tuning\")\n",
    "    and os.path.basename(os.getcwd()) != \"gfn-lm-tuning\"\n",
    "):\n",
    "    !git clone https://github.com/GFNOrg/gfn-lm-tuning\n",
    "    %cd gfn-lm-tuning\n",
    "elif os.path.basename(os.getcwd()) != \"gfn-lm-tuning\":\n",
    "    %cd gfn-lm-tuning\n",
    "else:\n",
    "    !git pull"
   ]
  },
  {
   "cell_type": "code",
   "execution_count": 3,
   "metadata": {
    "id": "xq77AgKWJM-N"
   },
   "outputs": [
    {
     "name": "stdout",
     "output_type": "stream",
     "text": [
      "[2024-01-11 06:26:47,599] [INFO] [real_accelerator.py:133:get_accelerator] Setting ds_accelerator to cuda (auto detect)\n"
     ]
    }
   ],
   "source": [
    "import random\n",
    "import numpy as np\n",
    "from tqdm import tqdm\n",
    "import pandas as pd\n",
    "\n",
    "from transformers import AutoTokenizer, AutoModelForCausalLM\n",
    "import torch\n",
    "import torch.nn.functional as F\n",
    "from peft import LoraConfig, get_peft_model, PeftModel\n",
    "\n",
    "from rng.rng_utils import generate, generate_and_return_eos_logprob"
   ]
  },
  {
   "cell_type": "code",
   "execution_count": 4,
   "metadata": {},
   "outputs": [
    {
     "name": "stdout",
     "output_type": "stream",
     "text": [
      "/network/scratch/y/younesse.kaddar/huggingface\n"
     ]
    }
   ],
   "source": [
    "print(os.getenv(\"HF_HOME\"))"
   ]
  },
  {
   "cell_type": "code",
   "execution_count": 5,
   "metadata": {},
   "outputs": [
    {
     "name": "stdout",
     "output_type": "stream",
     "text": [
      "['DejaVu Sans Mono', 'DejaVu Serif', 'DejaVu Sans Mono', 'DejaVu Sans', 'DejaVu Serif', 'Times New Roman', 'DejaVu Sans']\n",
      "['DejaVu Sans Mono', 'DejaVu Serif', 'STIXSizeFourSym', 'STIXNonUnicode', 'STIXSizeThreeSym', 'DejaVu Serif', 'cmss10', 'STIXNonUnicode', 'STIXSizeThreeSym', 'STIXSizeTwoSym', 'STIXNonUnicode', 'cmsy10', 'STIXGeneral', 'DejaVu Sans', 'cmmi10', 'DejaVu Sans Mono', 'DejaVu Sans Display', 'STIXSizeFourSym', 'DejaVu Sans Mono', 'STIXGeneral', 'DejaVu Sans', 'DejaVu Serif', 'DejaVu Serif', 'cmr10', 'STIXNonUnicode', 'STIXGeneral', 'cmb10', 'Times New Roman', 'DejaVu Sans Mono', 'STIXSizeOneSym', 'STIXSizeOneSym', 'STIXGeneral', 'cmex10', 'DejaVu Serif Display', 'STIXSizeTwoSym', 'DejaVu Sans', 'cmtt10', 'DejaVu Sans', 'STIXSizeFiveSym', 'DejaVu Sans', 'DejaVu Serif', 'DejaVu Sans', 'DejaVu Sans Mono', 'Times New Roman', 'DejaVu Sans Mono', 'DejaVu Serif']\n",
      "True\n",
      "/home/mila/y/younesse.kaddar/.config/matplotlib\n",
      "/home/mila/y/younesse.kaddar/.cache/matplotlib\n"
     ]
    }
   ],
   "source": [
    "import matplotlib\n",
    "import matplotlib.font_manager\n",
    "import matplotlib.pyplot as plt\n",
    "import shutil\n",
    "\n",
    "import seaborn as sns\n",
    "from IPython.display import display, Markdown\n",
    "\n",
    "# # Remove the matplotlib cache\n",
    "# shutil.rmtree(matplotlib.get_cachedir())\n",
    "\n",
    "fonts = matplotlib.font_manager.findSystemFonts(fontpaths=None, fontext=\"ttf\")\n",
    "\n",
    "# print the names of all fonts\n",
    "font_names = [matplotlib.font_manager.get_font(x).family_name for x in fonts]\n",
    "print(font_names)\n",
    "\n",
    "fonts = [f.name for f in matplotlib.font_manager.fontManager.ttflist]\n",
    "print(fonts)\n",
    "print(\"Times New Roman\" in fonts)\n",
    "\n",
    "plt.rcParams[\"font.family\"] = \"Times New Roman\"\n",
    "matplotlib.rc(\"font\", family=\"Times New Roman\")\n",
    "\n",
    "print(matplotlib.get_configdir())\n",
    "print(matplotlib.get_cachedir())"
   ]
  },
  {
   "cell_type": "code",
   "execution_count": 6,
   "metadata": {},
   "outputs": [
    {
     "name": "stdout",
     "output_type": "stream",
     "text": [
      "/home/mila/y/younesse.kaddar/gfn-lm-tuning\n"
     ]
    }
   ],
   "source": [
    "%load_ext autoreload\n",
    "%autoreload 2\n",
    "!pwd"
   ]
  },
  {
   "cell_type": "code",
   "execution_count": 7,
   "metadata": {},
   "outputs": [
    {
     "name": "stdout",
     "output_type": "stream",
     "text": [
      "Thu Jan 11 06:26:50 2024       \n",
      "+---------------------------------------------------------------------------------------+\n",
      "| NVIDIA-SMI 535.104.12             Driver Version: 535.104.12   CUDA Version: 12.2     |\n",
      "|-----------------------------------------+----------------------+----------------------+\n",
      "| GPU  Name                 Persistence-M | Bus-Id        Disp.A | Volatile Uncorr. ECC |\n",
      "| Fan  Temp   Perf          Pwr:Usage/Cap |         Memory-Usage | GPU-Util  Compute M. |\n",
      "|                                         |                      |               MIG M. |\n",
      "|=========================================+======================+======================|\n",
      "|   0  NVIDIA A100-SXM4-80GB          On  | 00000000:B7:00.0 Off |                    0 |\n",
      "| N/A   32C    P0              64W / 400W |      7MiB / 81920MiB |      0%      Default |\n",
      "|                                         |                      |             Disabled |\n",
      "+-----------------------------------------+----------------------+----------------------+\n",
      "                                                                                         \n",
      "+---------------------------------------------------------------------------------------+\n",
      "| Processes:                                                                            |\n",
      "|  GPU   GI   CI        PID   Type   Process name                            GPU Memory |\n",
      "|        ID   ID                                                             Usage      |\n",
      "|=======================================================================================|\n",
      "|  No running processes found                                                           |\n",
      "+---------------------------------------------------------------------------------------+\n"
     ]
    }
   ],
   "source": [
    "!nvidia-smi"
   ]
  },
  {
   "cell_type": "code",
   "execution_count": 8,
   "metadata": {},
   "outputs": [],
   "source": [
    "import gc\n",
    "\n",
    "with torch.no_grad():\n",
    "    gc.collect()\n",
    "    torch.cuda.empty_cache()"
   ]
  },
  {
   "cell_type": "code",
   "execution_count": 9,
   "metadata": {},
   "outputs": [
    {
     "name": "stdout",
     "output_type": "stream",
     "text": [
      "\u001b[34m\u001b[1mwandb\u001b[0m: Currently logged in as: \u001b[33myoukad\u001b[0m (\u001b[33mox\u001b[0m). Use \u001b[1m`wandb login --relogin`\u001b[0m to force relogin\n"
     ]
    }
   ],
   "source": [
    "!wandb login"
   ]
  },
  {
   "attachments": {},
   "cell_type": "markdown",
   "metadata": {},
   "source": [
    "# Load the pretrained model\n"
   ]
  },
  {
   "cell_type": "code",
   "execution_count": 10,
   "metadata": {},
   "outputs": [
    {
     "name": "stderr",
     "output_type": "stream",
     "text": [
      "/home/mila/y/younesse.kaddar/virtualenvs/lm_3.10/lib/python3.10/site-packages/hydra/experimental/initialize.py:43: UserWarning: hydra.experimental.initialize() is no longer experimental. Use hydra.initialize()\n",
      "  deprecation_warning(message=message)\n",
      "/home/mila/y/younesse.kaddar/virtualenvs/lm_3.10/lib/python3.10/site-packages/hydra/experimental/initialize.py:45: UserWarning: \n",
      "The version_base parameter is not specified.\n",
      "Please specify a compatability version level, or None.\n",
      "Will assume defaults for version 1.1\n",
      "  self.delegate = real_initialize(\n",
      "/home/mila/y/younesse.kaddar/virtualenvs/lm_3.10/lib/python3.10/site-packages/hydra/experimental/compose.py:25: UserWarning: hydra.experimental.compose() is no longer experimental. Use hydra.compose()\n",
      "  deprecation_warning(message=message)\n"
     ]
    }
   ],
   "source": [
    "# Initialize Hydra\n",
    "hydra.core.global_hydra.GlobalHydra.instance().clear()\n",
    "initialize(config_path=\"gfn-lm-tuning/rng/configs\")\n",
    "cfg = compose(config_name=\"config\")\n",
    "\n",
    "bsz = cfg.hparams.GFN.bsz\n",
    "grad_acc = cfg.hparams.grad_acc\n",
    "lr = cfg.hparams.lr\n",
    "warmup_steps = cfg.hparams.warmup_steps\n",
    "subtb_lambda = cfg.hparams.GFN.subtb_lambda\n",
    "max_len = cfg.hparams.max_len\n",
    "min_len = cfg.hparams.min_len\n",
    "eval_interval = cfg.hparams.eval_interval\n",
    "log_interval = cfg.hparams.log_interval\n",
    "model_to_use = cfg.hparams.model_to_use\n",
    "seed = cfg.hparams.seed\n",
    "save_dir = cfg.hparams.save_dir\n",
    "epochs = 10  # cfg.hparams.epochs"
   ]
  },
  {
   "cell_type": "code",
   "execution_count": 11,
   "metadata": {},
   "outputs": [],
   "source": [
    "# Set the seed\n",
    "torch.manual_seed(seed)\n",
    "random.seed(seed)\n",
    "np.random.seed(seed)\n",
    "torch.manual_seed(seed)\n",
    "torch.backends.cudnn.deterministic = True\n",
    "torch.backends.cudnn.benchmark = False"
   ]
  },
  {
   "cell_type": "code",
   "execution_count": 12,
   "metadata": {},
   "outputs": [
    {
     "data": {
      "text/plain": [
       "GPTJForCausalLM(\n",
       "  (transformer): GPTJModel(\n",
       "    (wte): Embedding(50400, 4096)\n",
       "    (drop): Dropout(p=0.0, inplace=False)\n",
       "    (h): ModuleList(\n",
       "      (0-27): 28 x GPTJBlock(\n",
       "        (ln_1): LayerNorm((4096,), eps=1e-05, elementwise_affine=True)\n",
       "        (attn): GPTJAttention(\n",
       "          (attn_dropout): Dropout(p=0.0, inplace=False)\n",
       "          (resid_dropout): Dropout(p=0.0, inplace=False)\n",
       "          (k_proj): Linear(in_features=4096, out_features=4096, bias=False)\n",
       "          (v_proj): Linear(in_features=4096, out_features=4096, bias=False)\n",
       "          (q_proj): Linear(in_features=4096, out_features=4096, bias=False)\n",
       "          (out_proj): Linear(in_features=4096, out_features=4096, bias=False)\n",
       "        )\n",
       "        (mlp): GPTJMLP(\n",
       "          (fc_in): Linear(in_features=4096, out_features=16384, bias=True)\n",
       "          (fc_out): Linear(in_features=16384, out_features=4096, bias=True)\n",
       "          (act): NewGELUActivation()\n",
       "          (dropout): Dropout(p=0.0, inplace=False)\n",
       "        )\n",
       "      )\n",
       "    )\n",
       "    (ln_f): LayerNorm((4096,), eps=1e-05, elementwise_affine=True)\n",
       "  )\n",
       "  (lm_head): Linear(in_features=4096, out_features=50400, bias=True)\n",
       ")"
      ]
     },
     "execution_count": 12,
     "metadata": {},
     "output_type": "execute_result"
    }
   ],
   "source": [
    "if model_to_use == \"gpt-j\":\n",
    "    tokenizer = AutoTokenizer.from_pretrained(\"nlpcloud/instruct-gpt-j-fp16\")\n",
    "    model = AutoModelForCausalLM.from_pretrained(\n",
    "        \"nlpcloud/instruct-gpt-j-fp16\", torch_dtype=torch.bfloat16\n",
    "    )\n",
    "elif model_to_use == \"gpt2\":\n",
    "    tokenizer = AutoTokenizer.from_pretrained(\"gpt2\")\n",
    "    model = AutoModelForCausalLM.from_pretrained(\"gpt2\")\n",
    "\n",
    "model.to(\"cuda\")"
   ]
  },
  {
   "attachments": {},
   "cell_type": "markdown",
   "metadata": {},
   "source": [
    "# Training\n"
   ]
  },
  {
   "attachments": {},
   "cell_type": "markdown",
   "metadata": {},
   "source": [
    "## LoRA, Optimizer\n"
   ]
  },
  {
   "cell_type": "code",
   "execution_count": 13,
   "metadata": {},
   "outputs": [],
   "source": [
    "lora_config = LoraConfig(\n",
    "    r=cfg.lora.r,\n",
    "    lora_alpha=cfg.lora.lora_alpha,\n",
    "    target_modules=[\"k_proj\", \"v_proj\"] if model_to_use == \"gpt-j\" else [\"c_attn\"],\n",
    "    lora_dropout=cfg.lora.lora_dropout,\n",
    "    bias=cfg.lora.bias,\n",
    ")\n",
    "inference_model = get_peft_model(model, lora_config)\n",
    "\n",
    "opt = torch.optim.AdamW(\n",
    "    [{\"params\": inference_model.parameters(), \"lr\": lr}],\n",
    "    betas=(cfg.adamw.b1, cfg.adamw.b2),\n",
    ")"
   ]
  },
  {
   "attachments": {},
   "cell_type": "markdown",
   "metadata": {},
   "source": [
    "## Dataloader and Scheduler\n"
   ]
  },
  {
   "cell_type": "code",
   "execution_count": 14,
   "metadata": {},
   "outputs": [],
   "source": [
    "from rng.data_generator import main as generate_data\n",
    "\n",
    "if not os.path.exists(cfg.file_name.train):\n",
    "    generate_data(cfg)"
   ]
  },
  {
   "cell_type": "code",
   "execution_count": 15,
   "metadata": {},
   "outputs": [
    {
     "name": "stderr",
     "output_type": "stream",
     "text": [
      "Tokenizing dataset...: 2048it [00:00, 5480.86it/s]\n"
     ]
    }
   ],
   "source": [
    "from rng.rng_dataset import get_dataloader_from_dataframe\n",
    "\n",
    "df_train = pd.read_csv(cfg.file_name.train)\n",
    "\n",
    "train_loader = get_dataloader_from_dataframe(df_train, tokenizer, bsz=bsz, shuffle=True)"
   ]
  },
  {
   "cell_type": "code",
   "execution_count": 16,
   "metadata": {},
   "outputs": [
    {
     "data": {
      "text/plain": [
       "[tensor([[  464,  1708,   318,   257,  4738, 18253,  7428, 42096,  1022,   657,\n",
       "            290,  1802,    25,   220],\n",
       "         [  464,  1708,   318,   257,  4738, 18253,  7428, 42096,  1022,   657,\n",
       "            290,  1802,    25,   220],\n",
       "         [  464,  1708,   318,   257,  4738, 18253,  7428, 42096,  1022,   657,\n",
       "            290,  1802,    25,   220],\n",
       "         [  464,  1708,   318,   257,  4738, 18253,  7428, 42096,  1022,   657,\n",
       "            290,  1802,    25,   220],\n",
       "         [  464,  1708,   318,   257,  4738, 18253,  7428, 42096,  1022,   657,\n",
       "            290,  1802,    25,   220],\n",
       "         [  464,  1708,   318,   257,  4738, 18253,  7428, 42096,  1022,   657,\n",
       "            290,  1802,    25,   220],\n",
       "         [  464,  1708,   318,   257,  4738, 18253,  7428, 42096,  1022,   657,\n",
       "            290,  1802,    25,   220],\n",
       "         [  464,  1708,   318,   257,  4738, 18253,  7428, 42096,  1022,   657,\n",
       "            290,  1802,    25,   220]], device='cuda:0'),\n",
       " tensor([[0],\n",
       "         [0],\n",
       "         [0],\n",
       "         [0],\n",
       "         [0],\n",
       "         [0],\n",
       "         [0],\n",
       "         [0]], device='cuda:0')]"
      ]
     },
     "execution_count": 16,
     "metadata": {},
     "output_type": "execute_result"
    }
   ],
   "source": [
    "list(train_loader)[0]"
   ]
  },
  {
   "cell_type": "code",
   "execution_count": 17,
   "metadata": {},
   "outputs": [],
   "source": [
    "total_steps = epochs * len(train_loader)\n",
    "\n",
    "\n",
    "# learning rate schedule\n",
    "def get_lr_mult_at_step(step):\n",
    "    if step <= warmup_steps:\n",
    "        return step / warmup_steps\n",
    "    return max((total_steps - step) / (total_steps - warmup_steps), 0)\n",
    "\n",
    "\n",
    "sched = torch.optim.lr_scheduler.LambdaLR(opt, get_lr_mult_at_step)"
   ]
  },
  {
   "attachments": {},
   "cell_type": "markdown",
   "metadata": {},
   "source": [
    "## Tests\n"
   ]
  },
  {
   "cell_type": "code",
   "execution_count": 18,
   "metadata": {},
   "outputs": [
    {
     "name": "stdout",
     "output_type": "stream",
     "text": [
      "Tokenized num_test:  [940] \n",
      "\n",
      "\n",
      "Tokenized prompt 'Randomly generate (uniformly) one single random integer between 0 and 10, and then stop: ': \n",
      "\t Random|ly| generate| (|un|iform|ly|)| one| single| random| integer| between| 0| and| 10|,| and| then| stop|:|  \n",
      "\t [29531, 306, 7716, 357, 403, 6933, 306, 8, 530, 2060, 4738, 18253, 1022, 657, 290, 838, 11, 290, 788, 2245, 25, 220] \n",
      "\t \t ⟶ Contains tokenized `num_test`?  False \n",
      " Model response: \n",
      "\t [' the', ' number', ' you', ' generated', '.', '\\n', '<|endoftext|>'] \n",
      "\n",
      "\n",
      "\n",
      "Tokenized prompt 'Randomly generate (uniformly) one single random integer in the interval [0, 10]: ': \n",
      "\t Random|ly| generate| (|un|iform|ly|)| one| single| random| integer| in| the| interval| [|0|,| 10|]:|  \n",
      "\t [29531, 306, 7716, 357, 403, 6933, 306, 8, 530, 2060, 4738, 18253, 287, 262, 16654, 685, 15, 11, 838, 5974, 220] \n",
      "\t \t ⟶ Contains tokenized `num_test`?  False \n",
      " Model response: \n",
      "\t [' \\\\', 'n', '\\\\', 'n', 'The', ' randomly', ' generated', ' integer', ' is', ':', ' 8', '\\n', '<|endoftext|>'] \n",
      "\n",
      "\n",
      "\n",
      "Tokenized prompt 'Here is one single random integer sampled uniformly between 0 and 10: ': \n",
      "\t Here| is| one| single| random| integer| sampled| uniformly| between| 0| and| 10|:|  \n",
      "\t [4342, 318, 530, 2060, 4738, 18253, 35846, 42096, 1022, 657, 290, 838, 25, 220] \n",
      "\t \t ⟶ Contains tokenized `num_test`?  False \n",
      " Model response: \n",
      "\t [' 4', '.', '\\n', '<|endoftext|>'] \n",
      "\n",
      "\n",
      "\n",
      "Tokenized prompt 'The following is a random integer drawn uniformly between 0 and 10: ': \n",
      "\t The| following| is| a| random| integer| drawn| uniformly| between| 0| and| 10|:|  \n",
      "\t [464, 1708, 318, 257, 4738, 18253, 7428, 42096, 1022, 657, 290, 838, 25, 220] \n",
      "\t \t ⟶ Contains tokenized `num_test`?  False \n",
      " Model response: \n",
      "\t [' 4', '\\n', '<|endoftext|>'] \n",
      "\n",
      "\n",
      "\n"
     ]
    }
   ],
   "source": [
    "num_test = 10\n",
    "print(\"Tokenized num_test: \", tokenizer.encode(str(num_test)), \"\\n\\n\")\n",
    "\n",
    "\n",
    "def test_prompt(prompt_test, num_test=num_test):\n",
    "    tokenzed_prompt_test = tokenizer(prompt_test, return_tensors=\"pt\").to(\"cuda\")\n",
    "    print(\n",
    "        f\"Tokenized prompt '{prompt_test}': \\n\\t\",\n",
    "        \"|\".join(\n",
    "            tokenizer.decode(t) for t in tokenzed_prompt_test[\"input_ids\"].tolist()[0]\n",
    "        ),\n",
    "        \"\\n\\t\",\n",
    "        tokenzed_prompt_test[\"input_ids\"].tolist()[0],\n",
    "        \"\\n\\t\",\n",
    "        \"\\t ⟶ Contains tokenized `num_test`? \",\n",
    "        num_test in tokenzed_prompt_test[\"input_ids\"].tolist()[0],\n",
    "        \"\\n\",\n",
    "        \"Model response: \\n\\t\",\n",
    "        [\n",
    "            tokenizer.decode(t)\n",
    "            for t in model.generate(\n",
    "                **tokenzed_prompt_test,\n",
    "                max_new_tokens=30,\n",
    "                temperature=0,\n",
    "                pad_token_id=tokenizer.eos_token_id,\n",
    "            )[0][len(tokenizer.encode(prompt_test)) :]\n",
    "        ],\n",
    "        \"\\n\\n\\n\",\n",
    "    )\n",
    "\n",
    "\n",
    "prompt_tests = [\n",
    "    f\"Randomly generate (uniformly) one single random integer between 0 and {num_test}, and then stop: \",\n",
    "    f\"Randomly generate (uniformly) one single random integer in the interval [0, {num_test}]: \",\n",
    "    f\"Here is one single random integer sampled uniformly between 0 and {num_test}: \",\n",
    "    f\"The following is a random integer drawn uniformly between 0 and {num_test}: \",\n",
    "]\n",
    "\n",
    "for prompt_test in prompt_tests:\n",
    "    test_prompt(prompt_test)"
   ]
  },
  {
   "cell_type": "code",
   "execution_count": 19,
   "metadata": {},
   "outputs": [
    {
     "name": "stdout",
     "output_type": "stream",
     "text": [
      "The first number that requires more than 1 token is: (521, [20, 2481])\n",
      "The second number that requires more than 1 token is: (527, [20, 1983])\n",
      "The third number that requires more than 1 token is: (531, [20, 3132])\n"
     ]
    }
   ],
   "source": [
    "numbers = range(1, 1001)\n",
    "\n",
    "num_more_than_one_token = (\n",
    "    (num, tokens) for num in numbers if len(tokens := tokenizer.encode(str(num))) > 1\n",
    ")\n",
    "\n",
    "first_number_more_than_one, first_number_more_than_one_token = next(\n",
    "    num_more_than_one_token\n",
    ")\n",
    "print(\n",
    "    f\"The first number that requires more than 1 token is: {first_number_more_than_one, first_number_more_than_one_token}\"\n",
    ")\n",
    "print(\n",
    "    f\"The second number that requires more than 1 token is: {next(num_more_than_one_token)}\"\n",
    ")\n",
    "print(\n",
    "    f\"The third number that requires more than 1 token is: {next(num_more_than_one_token)}\"\n",
    ")"
   ]
  },
  {
   "cell_type": "code",
   "execution_count": 20,
   "metadata": {},
   "outputs": [
    {
     "data": {
      "text/plain": [
       "50400"
      ]
     },
     "execution_count": 20,
     "metadata": {},
     "output_type": "execute_result"
    }
   ],
   "source": [
    "num_tokens = [tokenizer.encode(str(num)) for num in range(first_number_more_than_one)]\n",
    "\n",
    "allowed_indices = torch.tensor(\n",
    "    [token for sublist in num_tokens for token in sublist], device=\"cuda\"\n",
    ")\n",
    "\n",
    "vocab_nice_list = torch.zeros(len(tokenizer.vocab), device=\"cuda\").bool()\n",
    "vocab_nice_list[allowed_indices] = True\n",
    "vocab_nice_list[tokenizer.eos_token_id] = True\n",
    "len(vocab_nice_list)"
   ]
  },
  {
   "cell_type": "code",
   "execution_count": 21,
   "metadata": {},
   "outputs": [],
   "source": [
    "n_max = cfg.distributions[\"uniform discrete\"].parameters.b\n",
    "eos_token_id = tokenizer.eos_token_id\n",
    "eos_string = tokenizer.decode(eos_token_id)\n",
    "tokens_of_numbers = (\n",
    "    torch.tensor([tokenizer.encode(str(num)) for num in range(n_max)]).view(-1).cuda()\n",
    ")"
   ]
  },
  {
   "attachments": {},
   "cell_type": "markdown",
   "metadata": {},
   "source": [
    "## Training loop\n"
   ]
  },
  {
   "cell_type": "code",
   "execution_count": 22,
   "metadata": {
    "colab": {
     "base_uri": "https://localhost:8080/"
    },
    "id": "dph6LMlH0ooD",
    "outputId": "cb17a778-4221-421b-f6b2-f163cad72797",
    "scrolled": true
   },
   "outputs": [
    {
     "name": "stderr",
     "output_type": "stream",
     "text": [
      "Failed to detect the name of this notebook, you can set it manually with the WANDB_NOTEBOOK_NAME environment variable to enable code saving.\n",
      "\u001b[34m\u001b[1mwandb\u001b[0m: Currently logged in as: \u001b[33myoukad\u001b[0m (\u001b[33mox\u001b[0m). Use \u001b[1m`wandb login --relogin`\u001b[0m to force relogin\n"
     ]
    },
    {
     "data": {
      "text/html": [
       "wandb version 0.16.2 is available!  To upgrade, please run:\n",
       " $ pip install wandb --upgrade"
      ],
      "text/plain": [
       "<IPython.core.display.HTML object>"
      ]
     },
     "metadata": {},
     "output_type": "display_data"
    },
    {
     "data": {
      "text/html": [
       "Tracking run with wandb version 0.15.8"
      ],
      "text/plain": [
       "<IPython.core.display.HTML object>"
      ]
     },
     "metadata": {},
     "output_type": "display_data"
    },
    {
     "data": {
      "text/html": [
       "Run data is saved locally in <code>/home/mila/y/younesse.kaddar/gfn-lm-tuning/wandb/run-20240111_062841-9nffeer6</code>"
      ],
      "text/plain": [
       "<IPython.core.display.HTML object>"
      ]
     },
     "metadata": {},
     "output_type": "display_data"
    },
    {
     "data": {
      "text/html": [
       "Syncing run <strong><a href='https://wandb.ai/ox/gfn-finetuning/runs/9nffeer6' target=\"_blank\">kind-sun-17</a></strong> to <a href='https://wandb.ai/ox/gfn-finetuning' target=\"_blank\">Weights & Biases</a> (<a href='https://wandb.me/run' target=\"_blank\">docs</a>)<br/>"
      ],
      "text/plain": [
       "<IPython.core.display.HTML object>"
      ]
     },
     "metadata": {},
     "output_type": "display_data"
    },
    {
     "data": {
      "text/html": [
       " View project at <a href='https://wandb.ai/ox/gfn-finetuning' target=\"_blank\">https://wandb.ai/ox/gfn-finetuning</a>"
      ],
      "text/plain": [
       "<IPython.core.display.HTML object>"
      ]
     },
     "metadata": {},
     "output_type": "display_data"
    },
    {
     "data": {
      "text/html": [
       " View run at <a href='https://wandb.ai/ox/gfn-finetuning/runs/9nffeer6' target=\"_blank\">https://wandb.ai/ox/gfn-finetuning/runs/9nffeer6</a>"
      ],
      "text/plain": [
       "<IPython.core.display.HTML object>"
      ]
     },
     "metadata": {},
     "output_type": "display_data"
    },
    {
     "name": "stderr",
     "output_type": "stream",
     "text": [
      "Epochs:   0%|          | 0/10 [00:00<?, ?it/s]"
     ]
    },
    {
     "name": "stdout",
     "output_type": "stream",
     "text": [
      "Epoch: 0, Batch: 0, Loss: 6230.1787109375\n"
     ]
    },
    {
     "name": "stderr",
     "output_type": "stream",
     "text": []
    },
    {
     "name": "stdout",
     "output_type": "stream",
     "text": [
      "Epoch: 0, Batch: 10, Loss: 11.78463363647461\n"
     ]
    },
    {
     "name": "stderr",
     "output_type": "stream",
     "text": []
    },
    {
     "name": "stdout",
     "output_type": "stream",
     "text": [
      "Epoch: 0, Batch: 20, Loss: 34.80643844604492\n"
     ]
    },
    {
     "name": "stderr",
     "output_type": "stream",
     "text": []
    },
    {
     "name": "stdout",
     "output_type": "stream",
     "text": [
      "Epoch: 0, Batch: 30, Loss: 69.33173370361328\n"
     ]
    },
    {
     "name": "stderr",
     "output_type": "stream",
     "text": []
    },
    {
     "name": "stdout",
     "output_type": "stream",
     "text": [
      "Epoch: 0, Batch: 40, Loss: 143.97804260253906\n"
     ]
    },
    {
     "name": "stderr",
     "output_type": "stream",
     "text": []
    },
    {
     "name": "stdout",
     "output_type": "stream",
     "text": [
      "Epoch: 0, Batch: 50, Loss: 41.37861251831055\n"
     ]
    },
    {
     "name": "stderr",
     "output_type": "stream",
     "text": []
    },
    {
     "name": "stdout",
     "output_type": "stream",
     "text": [
      "Epoch: 0, Batch: 60, Loss: 33.5132942199707\n"
     ]
    },
    {
     "name": "stderr",
     "output_type": "stream",
     "text": []
    },
    {
     "name": "stdout",
     "output_type": "stream",
     "text": [
      "Epoch: 0, Batch: 70, Loss: 16.18343734741211\n"
     ]
    },
    {
     "name": "stderr",
     "output_type": "stream",
     "text": []
    },
    {
     "name": "stdout",
     "output_type": "stream",
     "text": [
      "Epoch: 0, Batch: 80, Loss: 8.318410873413086\n"
     ]
    },
    {
     "name": "stderr",
     "output_type": "stream",
     "text": []
    },
    {
     "name": "stdout",
     "output_type": "stream",
     "text": [
      "Epoch: 0, Batch: 90, Loss: 35.71435546875\n"
     ]
    },
    {
     "name": "stderr",
     "output_type": "stream",
     "text": []
    },
    {
     "name": "stdout",
     "output_type": "stream",
     "text": [
      "Epoch: 0, Batch: 100, Loss: 58.62720489501953\n"
     ]
    },
    {
     "name": "stderr",
     "output_type": "stream",
     "text": []
    },
    {
     "name": "stdout",
     "output_type": "stream",
     "text": [
      "Epoch: 0, Batch: 110, Loss: 85.02554321289062\n"
     ]
    },
    {
     "name": "stderr",
     "output_type": "stream",
     "text": []
    },
    {
     "name": "stdout",
     "output_type": "stream",
     "text": [
      "Epoch: 0, Batch: 120, Loss: 24.97364044189453\n"
     ]
    },
    {
     "name": "stderr",
     "output_type": "stream",
     "text": []
    },
    {
     "name": "stdout",
     "output_type": "stream",
     "text": [
      "Epoch: 0, Batch: 130, Loss: 5.901442527770996\n"
     ]
    },
    {
     "name": "stderr",
     "output_type": "stream",
     "text": []
    },
    {
     "name": "stdout",
     "output_type": "stream",
     "text": [
      "Epoch: 0, Batch: 140, Loss: 2.912597179412842\n"
     ]
    },
    {
     "name": "stderr",
     "output_type": "stream",
     "text": []
    },
    {
     "name": "stdout",
     "output_type": "stream",
     "text": [
      "Epoch: 0, Batch: 150, Loss: 2.722351312637329\n"
     ]
    },
    {
     "name": "stderr",
     "output_type": "stream",
     "text": []
    },
    {
     "name": "stdout",
     "output_type": "stream",
     "text": [
      "Epoch: 0, Batch: 160, Loss: 2.240706443786621\n"
     ]
    },
    {
     "name": "stderr",
     "output_type": "stream",
     "text": []
    },
    {
     "name": "stdout",
     "output_type": "stream",
     "text": [
      "Epoch: 0, Batch: 170, Loss: 5.166847229003906\n"
     ]
    },
    {
     "name": "stderr",
     "output_type": "stream",
     "text": []
    },
    {
     "name": "stdout",
     "output_type": "stream",
     "text": [
      "Epoch: 0, Batch: 180, Loss: 2.1255035400390625\n"
     ]
    },
    {
     "name": "stderr",
     "output_type": "stream",
     "text": []
    },
    {
     "name": "stdout",
     "output_type": "stream",
     "text": [
      "Epoch: 0, Batch: 190, Loss: 1.490882396697998\n"
     ]
    },
    {
     "name": "stderr",
     "output_type": "stream",
     "text": []
    },
    {
     "name": "stdout",
     "output_type": "stream",
     "text": [
      "Epoch: 0, Batch: 200, Loss: 1.045379400253296\n"
     ]
    },
    {
     "name": "stderr",
     "output_type": "stream",
     "text": []
    },
    {
     "name": "stdout",
     "output_type": "stream",
     "text": [
      "Epoch: 0, Batch: 210, Loss: 0.9690625071525574\n"
     ]
    },
    {
     "name": "stderr",
     "output_type": "stream",
     "text": []
    },
    {
     "name": "stdout",
     "output_type": "stream",
     "text": [
      "Epoch: 0, Batch: 220, Loss: 1.6126788854599\n"
     ]
    },
    {
     "name": "stderr",
     "output_type": "stream",
     "text": []
    },
    {
     "name": "stdout",
     "output_type": "stream",
     "text": [
      "Epoch: 0, Batch: 230, Loss: 0.6549379229545593\n"
     ]
    },
    {
     "name": "stderr",
     "output_type": "stream",
     "text": []
    },
    {
     "name": "stdout",
     "output_type": "stream",
     "text": [
      "Epoch: 0, Batch: 240, Loss: 0.6265485286712646\n"
     ]
    },
    {
     "name": "stderr",
     "output_type": "stream",
     "text": []
    },
    {
     "name": "stdout",
     "output_type": "stream",
     "text": [
      "Epoch: 0, Batch: 250, Loss: 0.37632036209106445\n"
     ]
    },
    {
     "name": "stderr",
     "output_type": "stream",
     "text": [
      "Epoch 0: 100%|██████████| 256/256 [12:58<00:00,  3.04s/it]\n",
      "Epochs:  10%|█         | 1/10 [12:58<1:56:50, 778.94s/it]"
     ]
    },
    {
     "name": "stdout",
     "output_type": "stream",
     "text": [
      "Epoch: 1, Batch: 0, Loss: 0.2669980823993683\n"
     ]
    },
    {
     "name": "stderr",
     "output_type": "stream",
     "text": []
    },
    {
     "name": "stdout",
     "output_type": "stream",
     "text": [
      "Epoch: 1, Batch: 10, Loss: 0.8761524558067322\n"
     ]
    },
    {
     "name": "stderr",
     "output_type": "stream",
     "text": []
    },
    {
     "name": "stdout",
     "output_type": "stream",
     "text": [
      "Epoch: 1, Batch: 20, Loss: 0.23358139395713806\n"
     ]
    },
    {
     "name": "stderr",
     "output_type": "stream",
     "text": []
    },
    {
     "name": "stdout",
     "output_type": "stream",
     "text": [
      "Epoch: 1, Batch: 30, Loss: 0.1833423376083374\n"
     ]
    },
    {
     "name": "stderr",
     "output_type": "stream",
     "text": []
    },
    {
     "name": "stdout",
     "output_type": "stream",
     "text": [
      "Epoch: 1, Batch: 40, Loss: 0.3469998836517334\n"
     ]
    },
    {
     "name": "stderr",
     "output_type": "stream",
     "text": []
    },
    {
     "name": "stdout",
     "output_type": "stream",
     "text": [
      "Epoch: 1, Batch: 50, Loss: 1.1760562658309937\n"
     ]
    },
    {
     "name": "stderr",
     "output_type": "stream",
     "text": []
    },
    {
     "name": "stdout",
     "output_type": "stream",
     "text": [
      "Epoch: 1, Batch: 60, Loss: 0.3220673203468323\n"
     ]
    },
    {
     "name": "stderr",
     "output_type": "stream",
     "text": []
    },
    {
     "name": "stdout",
     "output_type": "stream",
     "text": [
      "Epoch: 1, Batch: 70, Loss: 0.14217351377010345\n"
     ]
    },
    {
     "name": "stderr",
     "output_type": "stream",
     "text": []
    },
    {
     "name": "stdout",
     "output_type": "stream",
     "text": [
      "Epoch: 1, Batch: 80, Loss: 0.17709338665008545\n"
     ]
    },
    {
     "name": "stderr",
     "output_type": "stream",
     "text": []
    },
    {
     "name": "stdout",
     "output_type": "stream",
     "text": [
      "Epoch: 1, Batch: 90, Loss: 0.11983474344015121\n"
     ]
    },
    {
     "name": "stderr",
     "output_type": "stream",
     "text": []
    },
    {
     "name": "stdout",
     "output_type": "stream",
     "text": [
      "Epoch: 1, Batch: 100, Loss: 0.12536637485027313\n"
     ]
    },
    {
     "name": "stderr",
     "output_type": "stream",
     "text": []
    },
    {
     "name": "stdout",
     "output_type": "stream",
     "text": [
      "Epoch: 1, Batch: 110, Loss: 0.09570322185754776\n"
     ]
    },
    {
     "name": "stderr",
     "output_type": "stream",
     "text": []
    },
    {
     "name": "stdout",
     "output_type": "stream",
     "text": [
      "Epoch: 1, Batch: 120, Loss: 0.22849273681640625\n"
     ]
    },
    {
     "name": "stderr",
     "output_type": "stream",
     "text": []
    },
    {
     "name": "stdout",
     "output_type": "stream",
     "text": [
      "Epoch: 1, Batch: 130, Loss: 0.10231001675128937\n"
     ]
    },
    {
     "name": "stderr",
     "output_type": "stream",
     "text": []
    },
    {
     "name": "stdout",
     "output_type": "stream",
     "text": [
      "Epoch: 1, Batch: 140, Loss: 0.06587214767932892\n"
     ]
    },
    {
     "name": "stderr",
     "output_type": "stream",
     "text": []
    },
    {
     "name": "stdout",
     "output_type": "stream",
     "text": [
      "Epoch: 1, Batch: 150, Loss: 0.17898568511009216\n"
     ]
    },
    {
     "name": "stderr",
     "output_type": "stream",
     "text": []
    },
    {
     "name": "stdout",
     "output_type": "stream",
     "text": [
      "Epoch: 1, Batch: 160, Loss: 0.3071748614311218\n"
     ]
    },
    {
     "name": "stderr",
     "output_type": "stream",
     "text": []
    },
    {
     "name": "stdout",
     "output_type": "stream",
     "text": [
      "Epoch: 1, Batch: 170, Loss: 0.10619357228279114\n"
     ]
    },
    {
     "name": "stderr",
     "output_type": "stream",
     "text": []
    },
    {
     "name": "stdout",
     "output_type": "stream",
     "text": [
      "Epoch: 1, Batch: 180, Loss: 0.07843011617660522\n"
     ]
    },
    {
     "name": "stderr",
     "output_type": "stream",
     "text": []
    },
    {
     "name": "stdout",
     "output_type": "stream",
     "text": [
      "Epoch: 1, Batch: 190, Loss: 0.2320024073123932\n"
     ]
    },
    {
     "name": "stderr",
     "output_type": "stream",
     "text": []
    },
    {
     "name": "stdout",
     "output_type": "stream",
     "text": [
      "Epoch: 1, Batch: 200, Loss: 0.06053910031914711\n"
     ]
    },
    {
     "name": "stderr",
     "output_type": "stream",
     "text": []
    },
    {
     "name": "stdout",
     "output_type": "stream",
     "text": [
      "Epoch: 1, Batch: 210, Loss: 0.08960716426372528\n"
     ]
    },
    {
     "name": "stderr",
     "output_type": "stream",
     "text": []
    },
    {
     "name": "stdout",
     "output_type": "stream",
     "text": [
      "Epoch: 1, Batch: 220, Loss: 0.08293896168470383\n"
     ]
    },
    {
     "name": "stderr",
     "output_type": "stream",
     "text": []
    },
    {
     "name": "stdout",
     "output_type": "stream",
     "text": [
      "Epoch: 1, Batch: 230, Loss: 6.710533142089844\n"
     ]
    },
    {
     "name": "stderr",
     "output_type": "stream",
     "text": []
    },
    {
     "name": "stdout",
     "output_type": "stream",
     "text": [
      "Epoch: 1, Batch: 240, Loss: 0.14586642384529114\n"
     ]
    },
    {
     "name": "stderr",
     "output_type": "stream",
     "text": []
    },
    {
     "name": "stdout",
     "output_type": "stream",
     "text": [
      "Epoch: 1, Batch: 250, Loss: 0.0882490798830986\n"
     ]
    },
    {
     "name": "stderr",
     "output_type": "stream",
     "text": [
      "Epoch 1: 100%|██████████| 256/256 [12:32<00:00,  2.94s/it]\n",
      "Epochs:  20%|██        | 2/10 [25:31<1:41:47, 763.49s/it]"
     ]
    },
    {
     "name": "stdout",
     "output_type": "stream",
     "text": [
      "Epoch: 2, Batch: 0, Loss: 0.06054697558283806\n"
     ]
    },
    {
     "name": "stderr",
     "output_type": "stream",
     "text": []
    },
    {
     "name": "stdout",
     "output_type": "stream",
     "text": [
      "Epoch: 2, Batch: 10, Loss: 0.045227061957120895\n"
     ]
    },
    {
     "name": "stderr",
     "output_type": "stream",
     "text": []
    },
    {
     "name": "stdout",
     "output_type": "stream",
     "text": [
      "Epoch: 2, Batch: 20, Loss: 0.09139244258403778\n"
     ]
    },
    {
     "name": "stderr",
     "output_type": "stream",
     "text": []
    },
    {
     "name": "stdout",
     "output_type": "stream",
     "text": [
      "Epoch: 2, Batch: 30, Loss: 0.04284666106104851\n"
     ]
    },
    {
     "name": "stderr",
     "output_type": "stream",
     "text": []
    },
    {
     "name": "stdout",
     "output_type": "stream",
     "text": [
      "Epoch: 2, Batch: 40, Loss: 0.0504378043115139\n"
     ]
    },
    {
     "name": "stderr",
     "output_type": "stream",
     "text": []
    },
    {
     "name": "stdout",
     "output_type": "stream",
     "text": [
      "Epoch: 2, Batch: 50, Loss: 0.04016869142651558\n"
     ]
    },
    {
     "name": "stderr",
     "output_type": "stream",
     "text": []
    },
    {
     "name": "stdout",
     "output_type": "stream",
     "text": [
      "Epoch: 2, Batch: 60, Loss: 0.3251040577888489\n"
     ]
    },
    {
     "name": "stderr",
     "output_type": "stream",
     "text": []
    },
    {
     "name": "stdout",
     "output_type": "stream",
     "text": [
      "Epoch: 2, Batch: 70, Loss: 0.02870946377515793\n"
     ]
    },
    {
     "name": "stderr",
     "output_type": "stream",
     "text": []
    },
    {
     "name": "stdout",
     "output_type": "stream",
     "text": [
      "Epoch: 2, Batch: 80, Loss: 0.06927493214607239\n"
     ]
    },
    {
     "name": "stderr",
     "output_type": "stream",
     "text": []
    },
    {
     "name": "stdout",
     "output_type": "stream",
     "text": [
      "Epoch: 2, Batch: 90, Loss: 0.041885439306497574\n"
     ]
    },
    {
     "name": "stderr",
     "output_type": "stream",
     "text": []
    },
    {
     "name": "stdout",
     "output_type": "stream",
     "text": [
      "Epoch: 2, Batch: 100, Loss: 0.04227449744939804\n"
     ]
    },
    {
     "name": "stderr",
     "output_type": "stream",
     "text": []
    },
    {
     "name": "stdout",
     "output_type": "stream",
     "text": [
      "Epoch: 2, Batch: 110, Loss: 0.031120341271162033\n"
     ]
    },
    {
     "name": "stderr",
     "output_type": "stream",
     "text": []
    },
    {
     "name": "stdout",
     "output_type": "stream",
     "text": [
      "Epoch: 2, Batch: 120, Loss: 0.032409630715847015\n"
     ]
    },
    {
     "name": "stderr",
     "output_type": "stream",
     "text": []
    },
    {
     "name": "stdout",
     "output_type": "stream",
     "text": [
      "Epoch: 2, Batch: 130, Loss: 0.04928583651781082\n"
     ]
    },
    {
     "name": "stderr",
     "output_type": "stream",
     "text": []
    },
    {
     "name": "stdout",
     "output_type": "stream",
     "text": [
      "Epoch: 2, Batch: 140, Loss: 0.02553551271557808\n"
     ]
    },
    {
     "name": "stderr",
     "output_type": "stream",
     "text": []
    },
    {
     "name": "stdout",
     "output_type": "stream",
     "text": [
      "Epoch: 2, Batch: 150, Loss: 5.9349517822265625\n"
     ]
    },
    {
     "name": "stderr",
     "output_type": "stream",
     "text": []
    },
    {
     "name": "stdout",
     "output_type": "stream",
     "text": [
      "Epoch: 2, Batch: 160, Loss: 0.06841293722391129\n"
     ]
    },
    {
     "name": "stderr",
     "output_type": "stream",
     "text": []
    },
    {
     "name": "stdout",
     "output_type": "stream",
     "text": [
      "Epoch: 2, Batch: 170, Loss: 0.20218652486801147\n"
     ]
    },
    {
     "name": "stderr",
     "output_type": "stream",
     "text": []
    },
    {
     "name": "stdout",
     "output_type": "stream",
     "text": [
      "Epoch: 2, Batch: 180, Loss: 0.11794479191303253\n"
     ]
    },
    {
     "name": "stderr",
     "output_type": "stream",
     "text": []
    },
    {
     "name": "stdout",
     "output_type": "stream",
     "text": [
      "Epoch: 2, Batch: 190, Loss: 0.04082486033439636\n"
     ]
    },
    {
     "name": "stderr",
     "output_type": "stream",
     "text": []
    },
    {
     "name": "stdout",
     "output_type": "stream",
     "text": [
      "Epoch: 2, Batch: 200, Loss: 0.07395358383655548\n"
     ]
    },
    {
     "name": "stderr",
     "output_type": "stream",
     "text": []
    },
    {
     "name": "stdout",
     "output_type": "stream",
     "text": [
      "Epoch: 2, Batch: 210, Loss: 5.867095947265625\n"
     ]
    },
    {
     "name": "stderr",
     "output_type": "stream",
     "text": []
    },
    {
     "name": "stdout",
     "output_type": "stream",
     "text": [
      "Epoch: 2, Batch: 220, Loss: 0.06044779717922211\n"
     ]
    },
    {
     "name": "stderr",
     "output_type": "stream",
     "text": []
    },
    {
     "name": "stdout",
     "output_type": "stream",
     "text": [
      "Epoch: 2, Batch: 230, Loss: 0.04605873301625252\n"
     ]
    },
    {
     "name": "stderr",
     "output_type": "stream",
     "text": []
    },
    {
     "name": "stdout",
     "output_type": "stream",
     "text": [
      "Epoch: 2, Batch: 240, Loss: 0.05233775079250336\n"
     ]
    },
    {
     "name": "stderr",
     "output_type": "stream",
     "text": []
    },
    {
     "name": "stdout",
     "output_type": "stream",
     "text": [
      "Epoch: 2, Batch: 250, Loss: 0.028999386355280876\n"
     ]
    },
    {
     "name": "stderr",
     "output_type": "stream",
     "text": [
      "Epoch 2: 100%|██████████| 256/256 [12:33<00:00,  2.94s/it]\n",
      "Epochs:  30%|███       | 3/10 [38:04<1:28:31, 758.80s/it]"
     ]
    },
    {
     "name": "stdout",
     "output_type": "stream",
     "text": [
      "Epoch: 3, Batch: 0, Loss: 0.03440093249082565\n"
     ]
    },
    {
     "name": "stderr",
     "output_type": "stream",
     "text": []
    },
    {
     "name": "stdout",
     "output_type": "stream",
     "text": [
      "Epoch: 3, Batch: 10, Loss: 0.045989990234375\n"
     ]
    },
    {
     "name": "stderr",
     "output_type": "stream",
     "text": []
    },
    {
     "name": "stdout",
     "output_type": "stream",
     "text": [
      "Epoch: 3, Batch: 20, Loss: 0.04975897818803787\n"
     ]
    },
    {
     "name": "stderr",
     "output_type": "stream",
     "text": []
    },
    {
     "name": "stdout",
     "output_type": "stream",
     "text": [
      "Epoch: 3, Batch: 30, Loss: 0.025215089321136475\n"
     ]
    },
    {
     "name": "stderr",
     "output_type": "stream",
     "text": []
    },
    {
     "name": "stdout",
     "output_type": "stream",
     "text": [
      "Epoch: 3, Batch: 40, Loss: 0.027626095339655876\n"
     ]
    },
    {
     "name": "stderr",
     "output_type": "stream",
     "text": []
    },
    {
     "name": "stdout",
     "output_type": "stream",
     "text": [
      "Epoch: 3, Batch: 50, Loss: 0.04326820746064186\n"
     ]
    },
    {
     "name": "stderr",
     "output_type": "stream",
     "text": []
    },
    {
     "name": "stdout",
     "output_type": "stream",
     "text": [
      "Epoch: 3, Batch: 60, Loss: 0.04175375774502754\n"
     ]
    },
    {
     "name": "stderr",
     "output_type": "stream",
     "text": []
    },
    {
     "name": "stdout",
     "output_type": "stream",
     "text": [
      "Epoch: 3, Batch: 70, Loss: 0.030523300170898438\n"
     ]
    },
    {
     "name": "stderr",
     "output_type": "stream",
     "text": []
    },
    {
     "name": "stdout",
     "output_type": "stream",
     "text": [
      "Epoch: 3, Batch: 80, Loss: 0.09482772648334503\n"
     ]
    },
    {
     "name": "stderr",
     "output_type": "stream",
     "text": []
    },
    {
     "name": "stdout",
     "output_type": "stream",
     "text": [
      "Epoch: 3, Batch: 90, Loss: 0.0920410230755806\n"
     ]
    },
    {
     "name": "stderr",
     "output_type": "stream",
     "text": []
    },
    {
     "name": "stdout",
     "output_type": "stream",
     "text": [
      "Epoch: 3, Batch: 100, Loss: 0.07019031047821045\n"
     ]
    },
    {
     "name": "stderr",
     "output_type": "stream",
     "text": []
    },
    {
     "name": "stdout",
     "output_type": "stream",
     "text": [
      "Epoch: 3, Batch: 110, Loss: 0.04321286827325821\n"
     ]
    },
    {
     "name": "stderr",
     "output_type": "stream",
     "text": []
    },
    {
     "name": "stdout",
     "output_type": "stream",
     "text": [
      "Epoch: 3, Batch: 120, Loss: 0.03516373038291931\n"
     ]
    },
    {
     "name": "stderr",
     "output_type": "stream",
     "text": []
    },
    {
     "name": "stdout",
     "output_type": "stream",
     "text": [
      "Epoch: 3, Batch: 130, Loss: 0.045516982674598694\n"
     ]
    },
    {
     "name": "stderr",
     "output_type": "stream",
     "text": []
    },
    {
     "name": "stdout",
     "output_type": "stream",
     "text": [
      "Epoch: 3, Batch: 140, Loss: 8.022012710571289\n"
     ]
    },
    {
     "name": "stderr",
     "output_type": "stream",
     "text": []
    },
    {
     "name": "stdout",
     "output_type": "stream",
     "text": [
      "Epoch: 3, Batch: 150, Loss: 0.04090317338705063\n"
     ]
    },
    {
     "name": "stderr",
     "output_type": "stream",
     "text": []
    },
    {
     "name": "stdout",
     "output_type": "stream",
     "text": [
      "Epoch: 3, Batch: 160, Loss: 0.03633127734065056\n"
     ]
    },
    {
     "name": "stderr",
     "output_type": "stream",
     "text": []
    },
    {
     "name": "stdout",
     "output_type": "stream",
     "text": [
      "Epoch: 3, Batch: 170, Loss: 0.10425183176994324\n"
     ]
    },
    {
     "name": "stderr",
     "output_type": "stream",
     "text": []
    },
    {
     "name": "stdout",
     "output_type": "stream",
     "text": [
      "Epoch: 3, Batch: 180, Loss: 0.052324190735816956\n"
     ]
    },
    {
     "name": "stderr",
     "output_type": "stream",
     "text": []
    },
    {
     "name": "stdout",
     "output_type": "stream",
     "text": [
      "Epoch: 3, Batch: 190, Loss: 0.06602280586957932\n"
     ]
    },
    {
     "name": "stderr",
     "output_type": "stream",
     "text": []
    },
    {
     "name": "stdout",
     "output_type": "stream",
     "text": [
      "Epoch: 3, Batch: 200, Loss: 0.03584081307053566\n"
     ]
    },
    {
     "name": "stderr",
     "output_type": "stream",
     "text": []
    },
    {
     "name": "stdout",
     "output_type": "stream",
     "text": [
      "Epoch: 3, Batch: 210, Loss: 0.034614548087120056\n"
     ]
    },
    {
     "name": "stderr",
     "output_type": "stream",
     "text": []
    },
    {
     "name": "stdout",
     "output_type": "stream",
     "text": [
      "Epoch: 3, Batch: 220, Loss: 0.031831707805395126\n"
     ]
    },
    {
     "name": "stderr",
     "output_type": "stream",
     "text": []
    },
    {
     "name": "stdout",
     "output_type": "stream",
     "text": [
      "Epoch: 3, Batch: 230, Loss: 0.056655898690223694\n"
     ]
    },
    {
     "name": "stderr",
     "output_type": "stream",
     "text": []
    },
    {
     "name": "stdout",
     "output_type": "stream",
     "text": [
      "Epoch: 3, Batch: 240, Loss: 0.02701946161687374\n"
     ]
    },
    {
     "name": "stderr",
     "output_type": "stream",
     "text": []
    },
    {
     "name": "stdout",
     "output_type": "stream",
     "text": [
      "Epoch: 3, Batch: 250, Loss: 0.030881870537996292\n"
     ]
    },
    {
     "name": "stderr",
     "output_type": "stream",
     "text": [
      "Epoch 3: 100%|██████████| 256/256 [12:33<00:00,  2.94s/it]\n",
      "Epochs:  40%|████      | 4/10 [50:38<1:15:39, 756.65s/it]"
     ]
    },
    {
     "name": "stdout",
     "output_type": "stream",
     "text": [
      "Epoch: 4, Batch: 0, Loss: 0.026893585920333862\n"
     ]
    },
    {
     "name": "stderr",
     "output_type": "stream",
     "text": []
    },
    {
     "name": "stdout",
     "output_type": "stream",
     "text": [
      "Epoch: 4, Batch: 10, Loss: 0.05426780879497528\n"
     ]
    },
    {
     "name": "stderr",
     "output_type": "stream",
     "text": []
    },
    {
     "name": "stdout",
     "output_type": "stream",
     "text": [
      "Epoch: 4, Batch: 20, Loss: 0.04212955757975578\n"
     ]
    },
    {
     "name": "stderr",
     "output_type": "stream",
     "text": []
    },
    {
     "name": "stdout",
     "output_type": "stream",
     "text": [
      "Epoch: 4, Batch: 30, Loss: 0.03518110141158104\n"
     ]
    },
    {
     "name": "stderr",
     "output_type": "stream",
     "text": []
    },
    {
     "name": "stdout",
     "output_type": "stream",
     "text": [
      "Epoch: 4, Batch: 40, Loss: 0.037889476865530014\n"
     ]
    },
    {
     "name": "stderr",
     "output_type": "stream",
     "text": []
    },
    {
     "name": "stdout",
     "output_type": "stream",
     "text": [
      "Epoch: 4, Batch: 50, Loss: 0.03129385784268379\n"
     ]
    },
    {
     "name": "stderr",
     "output_type": "stream",
     "text": []
    },
    {
     "name": "stdout",
     "output_type": "stream",
     "text": [
      "Epoch: 4, Batch: 60, Loss: 0.030271418392658234\n"
     ]
    },
    {
     "name": "stderr",
     "output_type": "stream",
     "text": []
    },
    {
     "name": "stdout",
     "output_type": "stream",
     "text": [
      "Epoch: 4, Batch: 70, Loss: 0.07959383726119995\n"
     ]
    },
    {
     "name": "stderr",
     "output_type": "stream",
     "text": []
    },
    {
     "name": "stdout",
     "output_type": "stream",
     "text": [
      "Epoch: 4, Batch: 80, Loss: 0.048372454941272736\n"
     ]
    },
    {
     "name": "stderr",
     "output_type": "stream",
     "text": []
    },
    {
     "name": "stdout",
     "output_type": "stream",
     "text": [
      "Epoch: 4, Batch: 90, Loss: 0.033884014934301376\n"
     ]
    },
    {
     "name": "stderr",
     "output_type": "stream",
     "text": []
    },
    {
     "name": "stdout",
     "output_type": "stream",
     "text": [
      "Epoch: 4, Batch: 100, Loss: 0.04183970019221306\n"
     ]
    },
    {
     "name": "stderr",
     "output_type": "stream",
     "text": []
    },
    {
     "name": "stdout",
     "output_type": "stream",
     "text": [
      "Epoch: 4, Batch: 110, Loss: 0.03271859884262085\n"
     ]
    },
    {
     "name": "stderr",
     "output_type": "stream",
     "text": []
    },
    {
     "name": "stdout",
     "output_type": "stream",
     "text": [
      "Epoch: 4, Batch: 120, Loss: 0.027565056458115578\n"
     ]
    },
    {
     "name": "stderr",
     "output_type": "stream",
     "text": []
    },
    {
     "name": "stdout",
     "output_type": "stream",
     "text": [
      "Epoch: 4, Batch: 130, Loss: 0.025943852961063385\n"
     ]
    },
    {
     "name": "stderr",
     "output_type": "stream",
     "text": []
    },
    {
     "name": "stdout",
     "output_type": "stream",
     "text": [
      "Epoch: 4, Batch: 140, Loss: 0.025688203051686287\n"
     ]
    },
    {
     "name": "stderr",
     "output_type": "stream",
     "text": []
    },
    {
     "name": "stdout",
     "output_type": "stream",
     "text": [
      "Epoch: 4, Batch: 150, Loss: 0.02344314195215702\n"
     ]
    },
    {
     "name": "stderr",
     "output_type": "stream",
     "text": []
    },
    {
     "name": "stdout",
     "output_type": "stream",
     "text": [
      "Epoch: 4, Batch: 160, Loss: 0.039455316960811615\n"
     ]
    },
    {
     "name": "stderr",
     "output_type": "stream",
     "text": []
    },
    {
     "name": "stdout",
     "output_type": "stream",
     "text": [
      "Epoch: 4, Batch: 170, Loss: 0.03349505737423897\n"
     ]
    },
    {
     "name": "stderr",
     "output_type": "stream",
     "text": []
    },
    {
     "name": "stdout",
     "output_type": "stream",
     "text": [
      "Epoch: 4, Batch: 180, Loss: 0.01780129224061966\n"
     ]
    },
    {
     "name": "stderr",
     "output_type": "stream",
     "text": []
    },
    {
     "name": "stdout",
     "output_type": "stream",
     "text": [
      "Epoch: 4, Batch: 190, Loss: 0.02690887823700905\n"
     ]
    },
    {
     "name": "stderr",
     "output_type": "stream",
     "text": []
    },
    {
     "name": "stdout",
     "output_type": "stream",
     "text": [
      "Epoch: 4, Batch: 200, Loss: 0.022108130156993866\n"
     ]
    },
    {
     "name": "stderr",
     "output_type": "stream",
     "text": []
    },
    {
     "name": "stdout",
     "output_type": "stream",
     "text": [
      "Epoch: 4, Batch: 210, Loss: 0.02875894494354725\n"
     ]
    },
    {
     "name": "stderr",
     "output_type": "stream",
     "text": []
    },
    {
     "name": "stdout",
     "output_type": "stream",
     "text": [
      "Epoch: 4, Batch: 220, Loss: 0.026912640780210495\n"
     ]
    },
    {
     "name": "stderr",
     "output_type": "stream",
     "text": []
    },
    {
     "name": "stdout",
     "output_type": "stream",
     "text": [
      "Epoch: 4, Batch: 230, Loss: 0.03045271523296833\n"
     ]
    },
    {
     "name": "stderr",
     "output_type": "stream",
     "text": []
    },
    {
     "name": "stdout",
     "output_type": "stream",
     "text": [
      "Epoch: 4, Batch: 240, Loss: 0.023954493924975395\n"
     ]
    },
    {
     "name": "stderr",
     "output_type": "stream",
     "text": []
    },
    {
     "name": "stdout",
     "output_type": "stream",
     "text": [
      "Epoch: 4, Batch: 250, Loss: 0.03594204783439636\n"
     ]
    },
    {
     "name": "stderr",
     "output_type": "stream",
     "text": [
      "Epoch 4: 100%|██████████| 256/256 [12:29<00:00,  2.93s/it]\n",
      "Epochs:  50%|█████     | 5/10 [1:03:07<1:02:50, 754.11s/it]"
     ]
    },
    {
     "name": "stdout",
     "output_type": "stream",
     "text": [
      "Epoch: 5, Batch: 0, Loss: 0.026758184656500816\n"
     ]
    },
    {
     "name": "stderr",
     "output_type": "stream",
     "text": []
    },
    {
     "name": "stdout",
     "output_type": "stream",
     "text": [
      "Epoch: 5, Batch: 10, Loss: 0.019985217601060867\n"
     ]
    },
    {
     "name": "stderr",
     "output_type": "stream",
     "text": []
    },
    {
     "name": "stdout",
     "output_type": "stream",
     "text": [
      "Epoch: 5, Batch: 20, Loss: 0.029210906475782394\n"
     ]
    },
    {
     "name": "stderr",
     "output_type": "stream",
     "text": []
    },
    {
     "name": "stdout",
     "output_type": "stream",
     "text": [
      "Epoch: 5, Batch: 30, Loss: 0.030710270628333092\n"
     ]
    },
    {
     "name": "stderr",
     "output_type": "stream",
     "text": []
    },
    {
     "name": "stdout",
     "output_type": "stream",
     "text": [
      "Epoch: 5, Batch: 40, Loss: 0.026609446853399277\n"
     ]
    },
    {
     "name": "stderr",
     "output_type": "stream",
     "text": []
    },
    {
     "name": "stdout",
     "output_type": "stream",
     "text": [
      "Epoch: 5, Batch: 50, Loss: 0.020458213984966278\n"
     ]
    },
    {
     "name": "stderr",
     "output_type": "stream",
     "text": []
    },
    {
     "name": "stdout",
     "output_type": "stream",
     "text": [
      "Epoch: 5, Batch: 60, Loss: 0.021440545096993446\n"
     ]
    },
    {
     "name": "stderr",
     "output_type": "stream",
     "text": []
    },
    {
     "name": "stdout",
     "output_type": "stream",
     "text": [
      "Epoch: 5, Batch: 70, Loss: 0.02528185024857521\n"
     ]
    },
    {
     "name": "stderr",
     "output_type": "stream",
     "text": []
    },
    {
     "name": "stdout",
     "output_type": "stream",
     "text": [
      "Epoch: 5, Batch: 80, Loss: 0.02593989484012127\n"
     ]
    },
    {
     "name": "stderr",
     "output_type": "stream",
     "text": []
    },
    {
     "name": "stdout",
     "output_type": "stream",
     "text": [
      "Epoch: 5, Batch: 90, Loss: 0.02915767952799797\n"
     ]
    },
    {
     "name": "stderr",
     "output_type": "stream",
     "text": []
    },
    {
     "name": "stdout",
     "output_type": "stream",
     "text": [
      "Epoch: 5, Batch: 100, Loss: 0.02089111879467964\n"
     ]
    },
    {
     "name": "stderr",
     "output_type": "stream",
     "text": []
    },
    {
     "name": "stdout",
     "output_type": "stream",
     "text": [
      "Epoch: 5, Batch: 110, Loss: 0.027894916012883186\n"
     ]
    },
    {
     "name": "stderr",
     "output_type": "stream",
     "text": []
    },
    {
     "name": "stdout",
     "output_type": "stream",
     "text": [
      "Epoch: 5, Batch: 120, Loss: 0.024290116503834724\n"
     ]
    },
    {
     "name": "stderr",
     "output_type": "stream",
     "text": []
    },
    {
     "name": "stdout",
     "output_type": "stream",
     "text": [
      "Epoch: 5, Batch: 130, Loss: 0.02171909809112549\n"
     ]
    },
    {
     "name": "stderr",
     "output_type": "stream",
     "text": []
    },
    {
     "name": "stdout",
     "output_type": "stream",
     "text": [
      "Epoch: 5, Batch: 140, Loss: 0.03329266607761383\n"
     ]
    },
    {
     "name": "stderr",
     "output_type": "stream",
     "text": []
    },
    {
     "name": "stdout",
     "output_type": "stream",
     "text": [
      "Epoch: 5, Batch: 150, Loss: 0.02253527194261551\n"
     ]
    },
    {
     "name": "stderr",
     "output_type": "stream",
     "text": []
    },
    {
     "name": "stdout",
     "output_type": "stream",
     "text": [
      "Epoch: 5, Batch: 160, Loss: 0.03207598626613617\n"
     ]
    },
    {
     "name": "stderr",
     "output_type": "stream",
     "text": []
    },
    {
     "name": "stdout",
     "output_type": "stream",
     "text": [
      "Epoch: 5, Batch: 170, Loss: 0.026113413274288177\n"
     ]
    },
    {
     "name": "stderr",
     "output_type": "stream",
     "text": []
    },
    {
     "name": "stdout",
     "output_type": "stream",
     "text": [
      "Epoch: 5, Batch: 180, Loss: 0.022287340834736824\n"
     ]
    },
    {
     "name": "stderr",
     "output_type": "stream",
     "text": []
    },
    {
     "name": "stdout",
     "output_type": "stream",
     "text": [
      "Epoch: 5, Batch: 190, Loss: 0.022699398919939995\n"
     ]
    },
    {
     "name": "stderr",
     "output_type": "stream",
     "text": []
    },
    {
     "name": "stdout",
     "output_type": "stream",
     "text": [
      "Epoch: 5, Batch: 200, Loss: 0.018842648714780807\n"
     ]
    },
    {
     "name": "stderr",
     "output_type": "stream",
     "text": []
    },
    {
     "name": "stdout",
     "output_type": "stream",
     "text": [
      "Epoch: 5, Batch: 210, Loss: 0.022436197847127914\n"
     ]
    },
    {
     "name": "stderr",
     "output_type": "stream",
     "text": []
    },
    {
     "name": "stdout",
     "output_type": "stream",
     "text": [
      "Epoch: 5, Batch: 220, Loss: 0.02171708270907402\n"
     ]
    },
    {
     "name": "stderr",
     "output_type": "stream",
     "text": []
    },
    {
     "name": "stdout",
     "output_type": "stream",
     "text": [
      "Epoch: 5, Batch: 230, Loss: 0.029924359172582626\n"
     ]
    },
    {
     "name": "stderr",
     "output_type": "stream",
     "text": []
    },
    {
     "name": "stdout",
     "output_type": "stream",
     "text": [
      "Epoch: 5, Batch: 240, Loss: 0.012989002279937267\n"
     ]
    },
    {
     "name": "stderr",
     "output_type": "stream",
     "text": []
    },
    {
     "name": "stdout",
     "output_type": "stream",
     "text": [
      "Epoch: 5, Batch: 250, Loss: 0.020118827000260353\n"
     ]
    },
    {
     "name": "stderr",
     "output_type": "stream",
     "text": [
      "Epoch 5: 100%|██████████| 256/256 [12:30<00:00,  2.93s/it]\n",
      "Epochs:  60%|██████    | 6/10 [1:15:38<50:11, 752.89s/it]  "
     ]
    },
    {
     "name": "stdout",
     "output_type": "stream",
     "text": [
      "Epoch: 6, Batch: 0, Loss: 0.018514560535550117\n"
     ]
    },
    {
     "name": "stderr",
     "output_type": "stream",
     "text": []
    },
    {
     "name": "stdout",
     "output_type": "stream",
     "text": [
      "Epoch: 6, Batch: 10, Loss: 0.02333824336528778\n"
     ]
    },
    {
     "name": "stderr",
     "output_type": "stream",
     "text": []
    },
    {
     "name": "stdout",
     "output_type": "stream",
     "text": [
      "Epoch: 6, Batch: 20, Loss: 0.023359322920441628\n"
     ]
    },
    {
     "name": "stderr",
     "output_type": "stream",
     "text": []
    },
    {
     "name": "stdout",
     "output_type": "stream",
     "text": [
      "Epoch: 6, Batch: 30, Loss: 0.0188312828540802\n"
     ]
    },
    {
     "name": "stderr",
     "output_type": "stream",
     "text": []
    },
    {
     "name": "stdout",
     "output_type": "stream",
     "text": [
      "Epoch: 6, Batch: 40, Loss: 0.02430729568004608\n"
     ]
    },
    {
     "name": "stderr",
     "output_type": "stream",
     "text": []
    },
    {
     "name": "stdout",
     "output_type": "stream",
     "text": [
      "Epoch: 6, Batch: 50, Loss: 0.020450638607144356\n"
     ]
    },
    {
     "name": "stderr",
     "output_type": "stream",
     "text": []
    },
    {
     "name": "stdout",
     "output_type": "stream",
     "text": [
      "Epoch: 6, Batch: 60, Loss: 0.01936156116425991\n"
     ]
    },
    {
     "name": "stderr",
     "output_type": "stream",
     "text": []
    },
    {
     "name": "stdout",
     "output_type": "stream",
     "text": [
      "Epoch: 6, Batch: 70, Loss: 0.02322007343173027\n"
     ]
    },
    {
     "name": "stderr",
     "output_type": "stream",
     "text": []
    },
    {
     "name": "stdout",
     "output_type": "stream",
     "text": [
      "Epoch: 6, Batch: 80, Loss: 0.017574258148670197\n"
     ]
    },
    {
     "name": "stderr",
     "output_type": "stream",
     "text": []
    },
    {
     "name": "stdout",
     "output_type": "stream",
     "text": [
      "Epoch: 6, Batch: 90, Loss: 0.018215090036392212\n"
     ]
    },
    {
     "name": "stderr",
     "output_type": "stream",
     "text": []
    },
    {
     "name": "stdout",
     "output_type": "stream",
     "text": [
      "Epoch: 6, Batch: 100, Loss: 0.02707669883966446\n"
     ]
    },
    {
     "name": "stderr",
     "output_type": "stream",
     "text": []
    },
    {
     "name": "stdout",
     "output_type": "stream",
     "text": [
      "Epoch: 6, Batch: 110, Loss: 0.017042189836502075\n"
     ]
    },
    {
     "name": "stderr",
     "output_type": "stream",
     "text": []
    },
    {
     "name": "stdout",
     "output_type": "stream",
     "text": [
      "Epoch: 6, Batch: 120, Loss: 0.028848636895418167\n"
     ]
    },
    {
     "name": "stderr",
     "output_type": "stream",
     "text": []
    },
    {
     "name": "stdout",
     "output_type": "stream",
     "text": [
      "Epoch: 6, Batch: 130, Loss: 0.02607150189578533\n"
     ]
    },
    {
     "name": "stderr",
     "output_type": "stream",
     "text": []
    },
    {
     "name": "stdout",
     "output_type": "stream",
     "text": [
      "Epoch: 6, Batch: 140, Loss: 0.02700040489435196\n"
     ]
    },
    {
     "name": "stderr",
     "output_type": "stream",
     "text": []
    },
    {
     "name": "stdout",
     "output_type": "stream",
     "text": [
      "Epoch: 6, Batch: 150, Loss: 0.01956547610461712\n"
     ]
    },
    {
     "name": "stderr",
     "output_type": "stream",
     "text": []
    },
    {
     "name": "stdout",
     "output_type": "stream",
     "text": [
      "Epoch: 6, Batch: 160, Loss: 0.03487405925989151\n"
     ]
    },
    {
     "name": "stderr",
     "output_type": "stream",
     "text": []
    },
    {
     "name": "stdout",
     "output_type": "stream",
     "text": [
      "Epoch: 6, Batch: 170, Loss: 0.019073642790317535\n"
     ]
    },
    {
     "name": "stderr",
     "output_type": "stream",
     "text": []
    },
    {
     "name": "stdout",
     "output_type": "stream",
     "text": [
      "Epoch: 6, Batch: 180, Loss: 0.018331505358219147\n"
     ]
    },
    {
     "name": "stderr",
     "output_type": "stream",
     "text": []
    },
    {
     "name": "stdout",
     "output_type": "stream",
     "text": [
      "Epoch: 6, Batch: 190, Loss: 0.024804959073662758\n"
     ]
    },
    {
     "name": "stderr",
     "output_type": "stream",
     "text": []
    },
    {
     "name": "stdout",
     "output_type": "stream",
     "text": [
      "Epoch: 6, Batch: 200, Loss: 0.017019296064972878\n"
     ]
    },
    {
     "name": "stderr",
     "output_type": "stream",
     "text": []
    },
    {
     "name": "stdout",
     "output_type": "stream",
     "text": [
      "Epoch: 6, Batch: 210, Loss: 0.021409975364804268\n"
     ]
    },
    {
     "name": "stderr",
     "output_type": "stream",
     "text": []
    },
    {
     "name": "stdout",
     "output_type": "stream",
     "text": [
      "Epoch: 6, Batch: 220, Loss: 0.015806253999471664\n"
     ]
    },
    {
     "name": "stderr",
     "output_type": "stream",
     "text": []
    },
    {
     "name": "stdout",
     "output_type": "stream",
     "text": [
      "Epoch: 6, Batch: 230, Loss: 0.024362511932849884\n"
     ]
    },
    {
     "name": "stderr",
     "output_type": "stream",
     "text": []
    },
    {
     "name": "stdout",
     "output_type": "stream",
     "text": [
      "Epoch: 6, Batch: 240, Loss: 0.022066166624426842\n"
     ]
    },
    {
     "name": "stderr",
     "output_type": "stream",
     "text": []
    },
    {
     "name": "stdout",
     "output_type": "stream",
     "text": [
      "Epoch: 6, Batch: 250, Loss: 0.015960656106472015\n"
     ]
    },
    {
     "name": "stderr",
     "output_type": "stream",
     "text": [
      "Epoch 6: 100%|██████████| 256/256 [12:31<00:00,  2.94s/it]\n",
      "Epochs:  70%|███████   | 7/10 [1:28:09<37:37, 752.42s/it]"
     ]
    },
    {
     "name": "stdout",
     "output_type": "stream",
     "text": [
      "Epoch: 7, Batch: 0, Loss: 0.019128814339637756\n"
     ]
    },
    {
     "name": "stderr",
     "output_type": "stream",
     "text": []
    },
    {
     "name": "stdout",
     "output_type": "stream",
     "text": [
      "Epoch: 7, Batch: 10, Loss: 0.018703393638134003\n"
     ]
    },
    {
     "name": "stderr",
     "output_type": "stream",
     "text": []
    },
    {
     "name": "stdout",
     "output_type": "stream",
     "text": [
      "Epoch: 7, Batch: 20, Loss: 0.019617056474089622\n"
     ]
    },
    {
     "name": "stderr",
     "output_type": "stream",
     "text": []
    },
    {
     "name": "stdout",
     "output_type": "stream",
     "text": [
      "Epoch: 7, Batch: 30, Loss: 0.02225310169160366\n"
     ]
    },
    {
     "name": "stderr",
     "output_type": "stream",
     "text": []
    },
    {
     "name": "stdout",
     "output_type": "stream",
     "text": [
      "Epoch: 7, Batch: 40, Loss: 0.01639564149081707\n"
     ]
    },
    {
     "name": "stderr",
     "output_type": "stream",
     "text": []
    },
    {
     "name": "stdout",
     "output_type": "stream",
     "text": [
      "Epoch: 7, Batch: 50, Loss: 0.017789870500564575\n"
     ]
    },
    {
     "name": "stderr",
     "output_type": "stream",
     "text": []
    },
    {
     "name": "stdout",
     "output_type": "stream",
     "text": [
      "Epoch: 7, Batch: 60, Loss: 0.016021711751818657\n"
     ]
    },
    {
     "name": "stderr",
     "output_type": "stream",
     "text": []
    },
    {
     "name": "stdout",
     "output_type": "stream",
     "text": [
      "Epoch: 7, Batch: 70, Loss: 0.024351216852664948\n"
     ]
    },
    {
     "name": "stderr",
     "output_type": "stream",
     "text": []
    },
    {
     "name": "stdout",
     "output_type": "stream",
     "text": [
      "Epoch: 7, Batch: 80, Loss: 0.017946286126971245\n"
     ]
    },
    {
     "name": "stderr",
     "output_type": "stream",
     "text": []
    },
    {
     "name": "stdout",
     "output_type": "stream",
     "text": [
      "Epoch: 7, Batch: 90, Loss: 0.017740236595273018\n"
     ]
    },
    {
     "name": "stderr",
     "output_type": "stream",
     "text": []
    },
    {
     "name": "stdout",
     "output_type": "stream",
     "text": [
      "Epoch: 7, Batch: 100, Loss: 0.01110268197953701\n"
     ]
    },
    {
     "name": "stderr",
     "output_type": "stream",
     "text": []
    },
    {
     "name": "stdout",
     "output_type": "stream",
     "text": [
      "Epoch: 7, Batch: 110, Loss: 0.045795466750860214\n"
     ]
    },
    {
     "name": "stderr",
     "output_type": "stream",
     "text": []
    },
    {
     "name": "stdout",
     "output_type": "stream",
     "text": [
      "Epoch: 7, Batch: 120, Loss: 0.024868035688996315\n"
     ]
    },
    {
     "name": "stderr",
     "output_type": "stream",
     "text": []
    },
    {
     "name": "stdout",
     "output_type": "stream",
     "text": [
      "Epoch: 7, Batch: 130, Loss: 0.013835946097970009\n"
     ]
    },
    {
     "name": "stderr",
     "output_type": "stream",
     "text": []
    },
    {
     "name": "stdout",
     "output_type": "stream",
     "text": [
      "Epoch: 7, Batch: 140, Loss: 0.01808927208185196\n"
     ]
    },
    {
     "name": "stderr",
     "output_type": "stream",
     "text": []
    },
    {
     "name": "stdout",
     "output_type": "stream",
     "text": [
      "Epoch: 7, Batch: 150, Loss: 0.028503382578492165\n"
     ]
    },
    {
     "name": "stderr",
     "output_type": "stream",
     "text": []
    },
    {
     "name": "stdout",
     "output_type": "stream",
     "text": [
      "Epoch: 7, Batch: 160, Loss: 0.01945892721414566\n"
     ]
    },
    {
     "name": "stderr",
     "output_type": "stream",
     "text": []
    },
    {
     "name": "stdout",
     "output_type": "stream",
     "text": [
      "Epoch: 7, Batch: 170, Loss: 0.015048988163471222\n"
     ]
    },
    {
     "name": "stderr",
     "output_type": "stream",
     "text": []
    },
    {
     "name": "stdout",
     "output_type": "stream",
     "text": [
      "Epoch: 7, Batch: 180, Loss: 6.164791107177734\n"
     ]
    },
    {
     "name": "stderr",
     "output_type": "stream",
     "text": []
    },
    {
     "name": "stdout",
     "output_type": "stream",
     "text": [
      "Epoch: 7, Batch: 190, Loss: 0.04002569988369942\n"
     ]
    },
    {
     "name": "stderr",
     "output_type": "stream",
     "text": []
    },
    {
     "name": "stdout",
     "output_type": "stream",
     "text": [
      "Epoch: 7, Batch: 200, Loss: 0.030029240995645523\n"
     ]
    },
    {
     "name": "stderr",
     "output_type": "stream",
     "text": []
    },
    {
     "name": "stdout",
     "output_type": "stream",
     "text": [
      "Epoch: 7, Batch: 210, Loss: 0.03765678033232689\n"
     ]
    },
    {
     "name": "stderr",
     "output_type": "stream",
     "text": []
    },
    {
     "name": "stdout",
     "output_type": "stream",
     "text": [
      "Epoch: 7, Batch: 220, Loss: 0.022167259827256203\n"
     ]
    },
    {
     "name": "stderr",
     "output_type": "stream",
     "text": []
    },
    {
     "name": "stdout",
     "output_type": "stream",
     "text": [
      "Epoch: 7, Batch: 230, Loss: 0.02702508121728897\n"
     ]
    },
    {
     "name": "stderr",
     "output_type": "stream",
     "text": []
    },
    {
     "name": "stdout",
     "output_type": "stream",
     "text": [
      "Epoch: 7, Batch: 240, Loss: 0.02398294024169445\n"
     ]
    },
    {
     "name": "stderr",
     "output_type": "stream",
     "text": []
    },
    {
     "name": "stdout",
     "output_type": "stream",
     "text": [
      "Epoch: 7, Batch: 250, Loss: 0.039857909083366394\n"
     ]
    },
    {
     "name": "stderr",
     "output_type": "stream",
     "text": [
      "Epoch 7: 100%|██████████| 256/256 [12:30<00:00,  2.93s/it]\n",
      "Epochs:  80%|████████  | 8/10 [1:40:39<25:03, 751.65s/it]"
     ]
    },
    {
     "name": "stdout",
     "output_type": "stream",
     "text": [
      "Epoch: 8, Batch: 0, Loss: 0.0270424522459507\n"
     ]
    },
    {
     "name": "stderr",
     "output_type": "stream",
     "text": []
    },
    {
     "name": "stdout",
     "output_type": "stream",
     "text": [
      "Epoch: 8, Batch: 10, Loss: 0.026138408109545708\n"
     ]
    },
    {
     "name": "stderr",
     "output_type": "stream",
     "text": []
    },
    {
     "name": "stdout",
     "output_type": "stream",
     "text": [
      "Epoch: 8, Batch: 20, Loss: 0.031928934156894684\n"
     ]
    },
    {
     "name": "stderr",
     "output_type": "stream",
     "text": []
    },
    {
     "name": "stdout",
     "output_type": "stream",
     "text": [
      "Epoch: 8, Batch: 30, Loss: 0.01921088993549347\n"
     ]
    },
    {
     "name": "stderr",
     "output_type": "stream",
     "text": []
    },
    {
     "name": "stdout",
     "output_type": "stream",
     "text": [
      "Epoch: 8, Batch: 40, Loss: 0.022546708583831787\n"
     ]
    },
    {
     "name": "stderr",
     "output_type": "stream",
     "text": []
    },
    {
     "name": "stdout",
     "output_type": "stream",
     "text": [
      "Epoch: 8, Batch: 50, Loss: 0.01737402379512787\n"
     ]
    },
    {
     "name": "stderr",
     "output_type": "stream",
     "text": []
    },
    {
     "name": "stdout",
     "output_type": "stream",
     "text": [
      "Epoch: 8, Batch: 60, Loss: 0.021364178508520126\n"
     ]
    },
    {
     "name": "stderr",
     "output_type": "stream",
     "text": []
    },
    {
     "name": "stdout",
     "output_type": "stream",
     "text": [
      "Epoch: 8, Batch: 70, Loss: 0.019061991944909096\n"
     ]
    },
    {
     "name": "stderr",
     "output_type": "stream",
     "text": []
    },
    {
     "name": "stdout",
     "output_type": "stream",
     "text": [
      "Epoch: 8, Batch: 80, Loss: 0.02824021503329277\n"
     ]
    },
    {
     "name": "stderr",
     "output_type": "stream",
     "text": []
    },
    {
     "name": "stdout",
     "output_type": "stream",
     "text": [
      "Epoch: 8, Batch: 90, Loss: 0.03416626900434494\n"
     ]
    },
    {
     "name": "stderr",
     "output_type": "stream",
     "text": []
    },
    {
     "name": "stdout",
     "output_type": "stream",
     "text": [
      "Epoch: 8, Batch: 100, Loss: 0.02965928241610527\n"
     ]
    },
    {
     "name": "stderr",
     "output_type": "stream",
     "text": []
    },
    {
     "name": "stdout",
     "output_type": "stream",
     "text": [
      "Epoch: 8, Batch: 110, Loss: 0.020790142938494682\n"
     ]
    },
    {
     "name": "stderr",
     "output_type": "stream",
     "text": []
    },
    {
     "name": "stdout",
     "output_type": "stream",
     "text": [
      "Epoch: 8, Batch: 120, Loss: 0.019191747531294823\n"
     ]
    },
    {
     "name": "stderr",
     "output_type": "stream",
     "text": []
    },
    {
     "name": "stdout",
     "output_type": "stream",
     "text": [
      "Epoch: 8, Batch: 130, Loss: 0.022251151502132416\n"
     ]
    },
    {
     "name": "stderr",
     "output_type": "stream",
     "text": []
    },
    {
     "name": "stdout",
     "output_type": "stream",
     "text": [
      "Epoch: 8, Batch: 140, Loss: 0.02416228875517845\n"
     ]
    },
    {
     "name": "stderr",
     "output_type": "stream",
     "text": []
    },
    {
     "name": "stdout",
     "output_type": "stream",
     "text": [
      "Epoch: 8, Batch: 150, Loss: 0.028200240805745125\n"
     ]
    },
    {
     "name": "stderr",
     "output_type": "stream",
     "text": []
    },
    {
     "name": "stdout",
     "output_type": "stream",
     "text": [
      "Epoch: 8, Batch: 160, Loss: 0.019521744921803474\n"
     ]
    },
    {
     "name": "stderr",
     "output_type": "stream",
     "text": []
    },
    {
     "name": "stdout",
     "output_type": "stream",
     "text": [
      "Epoch: 8, Batch: 170, Loss: 0.023670101538300514\n"
     ]
    },
    {
     "name": "stderr",
     "output_type": "stream",
     "text": []
    },
    {
     "name": "stdout",
     "output_type": "stream",
     "text": [
      "Epoch: 8, Batch: 180, Loss: 0.017934706062078476\n"
     ]
    },
    {
     "name": "stderr",
     "output_type": "stream",
     "text": []
    },
    {
     "name": "stdout",
     "output_type": "stream",
     "text": [
      "Epoch: 8, Batch: 190, Loss: 0.016359347850084305\n"
     ]
    },
    {
     "name": "stderr",
     "output_type": "stream",
     "text": []
    },
    {
     "name": "stdout",
     "output_type": "stream",
     "text": [
      "Epoch: 8, Batch: 200, Loss: 0.03261931240558624\n"
     ]
    },
    {
     "name": "stderr",
     "output_type": "stream",
     "text": []
    },
    {
     "name": "stdout",
     "output_type": "stream",
     "text": [
      "Epoch: 8, Batch: 210, Loss: 0.01892855390906334\n"
     ]
    },
    {
     "name": "stderr",
     "output_type": "stream",
     "text": []
    },
    {
     "name": "stdout",
     "output_type": "stream",
     "text": [
      "Epoch: 8, Batch: 220, Loss: 0.020563123747706413\n"
     ]
    },
    {
     "name": "stderr",
     "output_type": "stream",
     "text": []
    },
    {
     "name": "stdout",
     "output_type": "stream",
     "text": [
      "Epoch: 8, Batch: 230, Loss: 0.019285118207335472\n"
     ]
    },
    {
     "name": "stderr",
     "output_type": "stream",
     "text": []
    },
    {
     "name": "stdout",
     "output_type": "stream",
     "text": [
      "Epoch: 8, Batch: 240, Loss: 0.027202583849430084\n"
     ]
    },
    {
     "name": "stderr",
     "output_type": "stream",
     "text": []
    },
    {
     "name": "stdout",
     "output_type": "stream",
     "text": [
      "Epoch: 8, Batch: 250, Loss: 0.022420842200517654\n"
     ]
    },
    {
     "name": "stderr",
     "output_type": "stream",
     "text": [
      "Epoch 8: 100%|██████████| 256/256 [12:30<00:00,  2.93s/it]\n",
      "Epochs:  90%|█████████ | 9/10 [1:53:10<12:31, 751.27s/it]"
     ]
    },
    {
     "name": "stdout",
     "output_type": "stream",
     "text": [
      "Epoch: 9, Batch: 0, Loss: 2.576883316040039\n"
     ]
    },
    {
     "name": "stderr",
     "output_type": "stream",
     "text": []
    },
    {
     "name": "stdout",
     "output_type": "stream",
     "text": [
      "Epoch: 9, Batch: 10, Loss: 0.023363055661320686\n"
     ]
    },
    {
     "name": "stderr",
     "output_type": "stream",
     "text": []
    },
    {
     "name": "stdout",
     "output_type": "stream",
     "text": [
      "Epoch: 9, Batch: 20, Loss: 0.027536382898688316\n"
     ]
    },
    {
     "name": "stderr",
     "output_type": "stream",
     "text": []
    },
    {
     "name": "stdout",
     "output_type": "stream",
     "text": [
      "Epoch: 9, Batch: 30, Loss: 0.02492321841418743\n"
     ]
    },
    {
     "name": "stderr",
     "output_type": "stream",
     "text": []
    },
    {
     "name": "stdout",
     "output_type": "stream",
     "text": [
      "Epoch: 9, Batch: 40, Loss: 0.024095594882965088\n"
     ]
    },
    {
     "name": "stderr",
     "output_type": "stream",
     "text": []
    },
    {
     "name": "stdout",
     "output_type": "stream",
     "text": [
      "Epoch: 9, Batch: 50, Loss: 0.018747249618172646\n"
     ]
    },
    {
     "name": "stderr",
     "output_type": "stream",
     "text": []
    },
    {
     "name": "stdout",
     "output_type": "stream",
     "text": [
      "Epoch: 9, Batch: 60, Loss: 2.3980350494384766\n"
     ]
    },
    {
     "name": "stderr",
     "output_type": "stream",
     "text": []
    },
    {
     "name": "stdout",
     "output_type": "stream",
     "text": [
      "Epoch: 9, Batch: 70, Loss: 0.028306998312473297\n"
     ]
    },
    {
     "name": "stderr",
     "output_type": "stream",
     "text": []
    },
    {
     "name": "stdout",
     "output_type": "stream",
     "text": [
      "Epoch: 9, Batch: 80, Loss: 0.020690957084298134\n"
     ]
    },
    {
     "name": "stderr",
     "output_type": "stream",
     "text": []
    },
    {
     "name": "stdout",
     "output_type": "stream",
     "text": [
      "Epoch: 9, Batch: 90, Loss: 0.01594354584813118\n"
     ]
    },
    {
     "name": "stderr",
     "output_type": "stream",
     "text": []
    },
    {
     "name": "stdout",
     "output_type": "stream",
     "text": [
      "Epoch: 9, Batch: 100, Loss: 0.0211334191262722\n"
     ]
    },
    {
     "name": "stderr",
     "output_type": "stream",
     "text": []
    },
    {
     "name": "stdout",
     "output_type": "stream",
     "text": [
      "Epoch: 9, Batch: 110, Loss: 8.308328628540039\n"
     ]
    },
    {
     "name": "stderr",
     "output_type": "stream",
     "text": []
    },
    {
     "name": "stdout",
     "output_type": "stream",
     "text": [
      "Epoch: 9, Batch: 120, Loss: 0.03135105222463608\n"
     ]
    },
    {
     "name": "stderr",
     "output_type": "stream",
     "text": []
    },
    {
     "name": "stdout",
     "output_type": "stream",
     "text": [
      "Epoch: 9, Batch: 130, Loss: 0.020524878054857254\n"
     ]
    },
    {
     "name": "stderr",
     "output_type": "stream",
     "text": []
    },
    {
     "name": "stdout",
     "output_type": "stream",
     "text": [
      "Epoch: 9, Batch: 140, Loss: 0.017793672159314156\n"
     ]
    },
    {
     "name": "stderr",
     "output_type": "stream",
     "text": []
    },
    {
     "name": "stdout",
     "output_type": "stream",
     "text": [
      "Epoch: 9, Batch: 150, Loss: 0.02734176628291607\n"
     ]
    },
    {
     "name": "stderr",
     "output_type": "stream",
     "text": []
    },
    {
     "name": "stdout",
     "output_type": "stream",
     "text": [
      "Epoch: 9, Batch: 160, Loss: 0.02032659947872162\n"
     ]
    },
    {
     "name": "stderr",
     "output_type": "stream",
     "text": []
    },
    {
     "name": "stdout",
     "output_type": "stream",
     "text": [
      "Epoch: 9, Batch: 170, Loss: 0.021627366542816162\n"
     ]
    },
    {
     "name": "stderr",
     "output_type": "stream",
     "text": []
    },
    {
     "name": "stdout",
     "output_type": "stream",
     "text": [
      "Epoch: 9, Batch: 180, Loss: 0.018281977623701096\n"
     ]
    },
    {
     "name": "stderr",
     "output_type": "stream",
     "text": []
    },
    {
     "name": "stdout",
     "output_type": "stream",
     "text": [
      "Epoch: 9, Batch: 190, Loss: 0.024288227781653404\n"
     ]
    },
    {
     "name": "stderr",
     "output_type": "stream",
     "text": []
    },
    {
     "name": "stdout",
     "output_type": "stream",
     "text": [
      "Epoch: 9, Batch: 200, Loss: 0.029895834624767303\n"
     ]
    },
    {
     "name": "stderr",
     "output_type": "stream",
     "text": []
    },
    {
     "name": "stdout",
     "output_type": "stream",
     "text": [
      "Epoch: 9, Batch: 210, Loss: 0.02424243837594986\n"
     ]
    },
    {
     "name": "stderr",
     "output_type": "stream",
     "text": []
    },
    {
     "name": "stdout",
     "output_type": "stream",
     "text": [
      "Epoch: 9, Batch: 220, Loss: 0.027341820299625397\n"
     ]
    },
    {
     "name": "stderr",
     "output_type": "stream",
     "text": []
    },
    {
     "name": "stdout",
     "output_type": "stream",
     "text": [
      "Epoch: 9, Batch: 230, Loss: 0.02587895281612873\n"
     ]
    },
    {
     "name": "stderr",
     "output_type": "stream",
     "text": []
    },
    {
     "name": "stdout",
     "output_type": "stream",
     "text": [
      "Epoch: 9, Batch: 240, Loss: 0.02973373606801033\n"
     ]
    },
    {
     "name": "stderr",
     "output_type": "stream",
     "text": []
    },
    {
     "name": "stdout",
     "output_type": "stream",
     "text": [
      "Epoch: 9, Batch: 250, Loss: 0.02620307169854641\n"
     ]
    },
    {
     "name": "stderr",
     "output_type": "stream",
     "text": [
      "Epoch 9: 100%|██████████| 256/256 [12:32<00:00,  2.94s/it]\n",
      "Epochs: 100%|██████████| 10/10 [2:05:42<00:00, 754.24s/it]\n"
     ]
    },
    {
     "data": {
      "text/html": [
       "Waiting for W&B process to finish... <strong style=\"color:green\">(success).</strong>"
      ],
      "text/plain": [
       "<IPython.core.display.HTML object>"
      ]
     },
     "metadata": {},
     "output_type": "display_data"
    },
    {
     "name": "stderr",
     "output_type": "stream",
     "text": [
      "wandb: WARNING Source type is set to 'repo' but some required information is missing from the environment. A job will not be created from this run. See https://docs.wandb.ai/guides/launch/create-job\n"
     ]
    },
    {
     "data": {
      "text/html": [
       "<style>\n",
       "    table.wandb td:nth-child(1) { padding: 0 10px; text-align: left ; width: auto;} td:nth-child(2) {text-align: left ; width: 100%}\n",
       "    .wandb-row { display: flex; flex-direction: row; flex-wrap: wrap; justify-content: flex-start; width: 100% }\n",
       "    .wandb-col { display: flex; flex-direction: column; flex-basis: 100%; flex: 1; padding: 10px; }\n",
       "    </style>\n",
       "<div class=\"wandb-row\"><div class=\"wandb-col\"><h3>Run history:</h3><br/><table class=\"wandb\"><tr><td>epoch</td><td>▁▁▁▁▂▂▂▂▃▃▃▃▃▃▃▃▄▄▄▄▅▅▅▅▆▆▆▆▆▆▆▆▇▇▇▇████</td></tr><tr><td>loss</td><td>▇█▆▁▁▁▁▁▁▁▁▁▁▁▁▁▁▁▁▁▁▁▁▁▁▁▁▁▁▁▁▁▁▁▁▁▁▁▁▁</td></tr><tr><td>reward</td><td>▁▁██████████████████████████████████████</td></tr><tr><td>step</td><td>▁▃▅▇▁▃▅▇▁▃▅▇▁▃▅▇▁▃▅▇▁▃▅▇▁▃▅▇▁▃▅▇▁▃▅▇▁▃▅█</td></tr></table><br/></div><div class=\"wandb-col\"><h3>Run summary:</h3><br/><table class=\"wandb\"><tr><td>epoch</td><td>9</td></tr><tr><td>input prompt</td><td>The following is a r...</td></tr><tr><td>loss</td><td>0.02167</td></tr><tr><td>response</td><td>71<|endoftext|><|end...</td></tr><tr><td>reward</td><td>8</td></tr><tr><td>step</td><td>255</td></tr></table><br/></div></div>"
      ],
      "text/plain": [
       "<IPython.core.display.HTML object>"
      ]
     },
     "metadata": {},
     "output_type": "display_data"
    },
    {
     "data": {
      "text/html": [
       " View run <strong style=\"color:#cdcd00\">kind-sun-17</strong> at: <a href='https://wandb.ai/ox/gfn-finetuning/runs/9nffeer6' target=\"_blank\">https://wandb.ai/ox/gfn-finetuning/runs/9nffeer6</a><br/>Synced 5 W&B file(s), 0 media file(s), 0 artifact file(s) and 0 other file(s)"
      ],
      "text/plain": [
       "<IPython.core.display.HTML object>"
      ]
     },
     "metadata": {},
     "output_type": "display_data"
    },
    {
     "data": {
      "text/html": [
       "Find logs at: <code>./wandb/run-20240111_062841-9nffeer6/logs</code>"
      ],
      "text/plain": [
       "<IPython.core.display.HTML object>"
      ]
     },
     "metadata": {},
     "output_type": "display_data"
    }
   ],
   "source": [
    "wandb.init(project=\"gfn-finetuning\")\n",
    "# columns = [\"Epoch\", \"Step\", \"Input prompt\", \"Response\", \"Reward\"]\n",
    "# examples_generation_table = wandb.Table(columns=columns)\n",
    "\n",
    "# Log hyperparameters\n",
    "wandb.config.bsz = bsz\n",
    "wandb.config.grad_acc = grad_acc\n",
    "wandb.config.lr = lr\n",
    "wandb.config.warmup_steps = warmup_steps\n",
    "wandb.config.subtb_lambda = subtb_lambda\n",
    "wandb.config.max_len = max_len\n",
    "wandb.config.min_len = min_len\n",
    "wandb.config.eval_interval = eval_interval\n",
    "wandb.config.log_interval = log_interval\n",
    "wandb.config.model_to_use = model_to_use\n",
    "wandb.config.seed = seed\n",
    "wandb.config.save_dir = save_dir\n",
    "wandb.config.epochs = epochs\n",
    "\n",
    "\n",
    "@torch.inference_mode()\n",
    "def reward_fn(x, n_max=n_max, skip_first=1):\n",
    "    # Get the token ids after skip_first\n",
    "    token_ids = x[:, skip_first:]\n",
    "\n",
    "    if token_ids.shape[1] == 0:\n",
    "        return torch.full((x.shape[0],), fill_value=-8).cuda()\n",
    "\n",
    "    # Initialize rewards to a low value\n",
    "    rew = torch.full(token_ids.shape, fill_value=-8).cuda() * torch.arange(\n",
    "        1, token_ids.shape[1] + 1, device=\"cuda\"\n",
    "    )\n",
    "\n",
    "    # Create a mask where the first token is in the list of tokenized permitted numbers\n",
    "    tokenized_permitted_numbers_mask = tokens_of_numbers[:n_max]\n",
    "    first_token_mask = torch.cat(\n",
    "        (\n",
    "            (token_ids[:, 0].unsqueeze(-1) == tokenized_permitted_numbers_mask)\n",
    "            .any(dim=-1)\n",
    "            .unsqueeze(-1),\n",
    "            torch.zeros(\n",
    "                token_ids.shape[0], token_ids.shape[1] - 1, device=\"cuda\"\n",
    "            ).bool(),\n",
    "        ),\n",
    "        dim=-1,\n",
    "    )\n",
    "\n",
    "    # Create a mask where the remaining tokens are the eos_token_id\n",
    "    remaining_eos_tokens_mask = torch.cat(\n",
    "        (\n",
    "            torch.zeros(token_ids.shape[0], 1, device=\"cuda\").bool(),\n",
    "            token_ids[:, 1:] == eos_token_id,\n",
    "        ),\n",
    "        dim=-1,\n",
    "    )\n",
    "\n",
    "    # Set the reward to 8 (resp. 0) where\n",
    "    # the token is the first token and in the list of tokenized permitted numbers,\n",
    "    # (resp. it is one of the remaining tokens and equal to eos_token_id)\n",
    "    rew[first_token_mask] = 8\n",
    "    rew[remaining_eos_tokens_mask] = 0\n",
    "\n",
    "    # return torch.cat((res[:, :1], res), dim=-1)\n",
    "    # return torch.cat((rew, rew.new_full((rew.shape[0], 1), 0)), dim=-1).cumsum(dim=-1)\n",
    "    return rew.sum(dim=-1)\n",
    "\n",
    "\n",
    "inference_model.train()\n",
    "for epoch in tqdm(range(epochs), desc=\"Epochs\"):\n",
    "    for step, batch in tqdm(\n",
    "        enumerate(train_loader), desc=f\"Epoch {epoch}\", total=len(train_loader)\n",
    "    ):\n",
    "        opt.zero_grad()\n",
    "        loss = 0.0\n",
    "        for _ in range(grad_acc):\n",
    "            encoded_input, _ = batch\n",
    "            (\n",
    "                generated_text,\n",
    "                logPF,\n",
    "                eos_logprob,\n",
    "                logrewards,\n",
    "            ) = generate_and_return_eos_logprob(\n",
    "                inference_model,\n",
    "                encoded_input,\n",
    "                eos_token_id=eos_token_id,\n",
    "                reward_fn=lambda x: reward_fn(\n",
    "                    x, n_max=n_max, skip_first=encoded_input.size(-1)\n",
    "                ),\n",
    "                # vocab_nice_mask=vocab_nice_list,\n",
    "                max_len=max_len,\n",
    "                min_len=min_len,\n",
    "                temperature=1,\n",
    "            )\n",
    "\n",
    "            # modified subTB loss with logpb=0\n",
    "            delta = (\n",
    "                logrewards[:, :-1]\n",
    "                - eos_logprob[:, :-1]\n",
    "                + logPF[:, :-1]\n",
    "                - (logrewards[:, 1:] - eos_logprob[:, 1:])\n",
    "            )\n",
    "            delta_cumsum = torch.cat([torch.zeros_like(delta[:, :1]), delta], 1).cumsum(\n",
    "                1\n",
    "            )\n",
    "\n",
    "            # get a mask for tokens after the first eos in generated_text\n",
    "            mask = (generated_text == eos_token_id).cumsum(dim=-1) >= 1\n",
    "            mask = mask[:, encoded_input.size(-1) :]\n",
    "            mask = mask[:, :max_len]\n",
    "            # if mask is too short, pad it\n",
    "            if mask.size(-1) < max_len:\n",
    "                mask = torch.cat(\n",
    "                    [\n",
    "                        mask,\n",
    "                        torch.ones(\n",
    "                            mask.size(0),\n",
    "                            max_len - mask.size(-1),\n",
    "                            dtype=torch.bool,\n",
    "                            device=\"cuda\",\n",
    "                        ),\n",
    "                    ],\n",
    "                    dim=-1,\n",
    "                )\n",
    "            # get trajectory lengths by summing the mask\n",
    "            batch_loss = 0.0\n",
    "            total_lambda = 0.0\n",
    "            for subtraj_len in range(1, max_len + 1):\n",
    "                subtb_term = (\n",
    "                    delta_cumsum[:, subtraj_len:] - delta_cumsum[:, :-subtraj_len]\n",
    "                ) ** 2\n",
    "                subtb_term[mask[:, subtraj_len - 1 :]] = 0\n",
    "                batch_loss += subtb_lambda ** (subtraj_len - 1) * subtb_term.sum()\n",
    "                total_lambda += (\n",
    "                    subtb_lambda ** (subtraj_len - 1)\n",
    "                    * (~mask[:, subtraj_len - 1 :]).sum()\n",
    "                )\n",
    "            batch_loss /= total_lambda\n",
    "\n",
    "            loss += batch_loss.mean()\n",
    "            batch_loss.mean().backward()\n",
    "            wandb.log({\"loss\": loss.item()})\n",
    "        opt.step()\n",
    "        sched.step()\n",
    "        if step % log_interval == 0:\n",
    "            print(f\"Epoch: {epoch}, Batch: {step}, Loss: {loss.item()}\")\n",
    "        for i in range(generated_text.size(0)):\n",
    "            wandb.log(\n",
    "                {\n",
    "                    \"epoch\": epoch,\n",
    "                    \"step\": step,\n",
    "                    \"input prompt\": tokenizer.decode(\n",
    "                        generated_text[i, : len(encoded_input[i])]\n",
    "                    )\n",
    "                    .replace(eos_string, \"\")\n",
    "                    .rstrip(),\n",
    "                    \"response\": tokenizer.decode(\n",
    "                        generated_text[i, len(encoded_input[i]) :]\n",
    "                    ),\n",
    "                    \"reward\": reward_fn(\n",
    "                        generated_text[i].unsqueeze(0), skip_first=len(encoded_input[i])\n",
    "                    ).item(),\n",
    "                }\n",
    "            )\n",
    "\n",
    "# wandb.log({\"examples generation\": examples_generation_table})\n",
    "wandb.finish()"
   ]
  },
  {
   "attachments": {},
   "cell_type": "markdown",
   "metadata": {},
   "source": [
    "### Test generations\n"
   ]
  },
  {
   "cell_type": "code",
   "execution_count": 23,
   "metadata": {},
   "outputs": [
    {
     "name": "stdout",
     "output_type": "stream",
     "text": [
      "The following is a random integer drawn uniformly between 0 and 100:  ['49', '<|endoftext|>'] \n",
      "\t\t\t\t\t\t\t Reward: tensor([8], device='cuda:0') \n",
      "\n",
      "\n",
      "The following is a random integer drawn uniformly between 0 and 100:  ['96', '<|endoftext|>'] \n",
      "\t\t\t\t\t\t\t Reward: tensor([8], device='cuda:0') \n",
      "\n",
      "\n",
      "The following is a random integer drawn uniformly between 0 and 100:  ['94', '<|endoftext|>'] \n",
      "\t\t\t\t\t\t\t Reward: tensor([8], device='cuda:0') \n",
      "\n",
      "\n",
      "The following is a random integer drawn uniformly between 0 and 100:  ['32', '<|endoftext|>'] \n",
      "\t\t\t\t\t\t\t Reward: tensor([8], device='cuda:0') \n",
      "\n",
      "\n",
      "The following is a random integer drawn uniformly between 0 and 100:  ['18', '<|endoftext|>'] \n",
      "\t\t\t\t\t\t\t Reward: tensor([8], device='cuda:0') \n",
      "\n",
      "\n",
      "The following is a random integer drawn uniformly between 0 and 100:  ['24', '<|endoftext|>'] \n",
      "\t\t\t\t\t\t\t Reward: tensor([8], device='cuda:0') \n",
      "\n",
      "\n",
      "The following is a random integer drawn uniformly between 0 and 100:  ['26', '<|endoftext|>'] \n",
      "\t\t\t\t\t\t\t Reward: tensor([8], device='cuda:0') \n",
      "\n",
      "\n",
      "The following is a random integer drawn uniformly between 0 and 100:  ['89', '<|endoftext|>'] \n",
      "\t\t\t\t\t\t\t Reward: tensor([8], device='cuda:0') \n",
      "\n",
      "\n"
     ]
    }
   ],
   "source": [
    "test_results = generate(\n",
    "    inference_model,\n",
    "    encoded_input.repeat(8, 1),\n",
    "    eos_token_id=eos_token_id,\n",
    "    max_len=max_len,\n",
    "    temperature=1,\n",
    ")[0]\n",
    "\n",
    "for i in range(generated_text.size(0)):\n",
    "    print(\n",
    "        tokenizer.decode(test_results[i, : len(encoded_input[0])]),\n",
    "        [tokenizer.decode(t) for t in test_results[i, len(encoded_input[0]) :]],\n",
    "        \"\\n\\t\\t\\t\\t\\t\\t\\t Reward:\",\n",
    "        reward_fn(test_results[i].unsqueeze(0), skip_first=len(encoded_input[0])),\n",
    "        \"\\n\\n\",\n",
    "    )"
   ]
  },
  {
   "attachments": {},
   "cell_type": "markdown",
   "metadata": {},
   "source": [
    "### Save the model\n"
   ]
  },
  {
   "cell_type": "code",
   "execution_count": 24,
   "metadata": {},
   "outputs": [
    {
     "name": "stdout",
     "output_type": "stream",
     "text": [
      "Saved model to ckpts/rng-GFN_gpt-j_bsz_8_grad_acc_8_lr_0.0005_warmup_steps_10_total_steps_2560_subtb_lambda_1.0_max_len_5_min_len_1_eval_interval_100_log_interval_10_seed_42\n"
     ]
    }
   ],
   "source": [
    "ckpt_name = f\"rng-GFN_{model_to_use}_bsz_{bsz}_grad_acc_{grad_acc}_lr_{lr}_warmup_steps_{warmup_steps}_total_steps_{total_steps}_subtb_lambda_{subtb_lambda}_max_len_{max_len}_min_len_{min_len}_eval_interval_{eval_interval}_log_interval_{log_interval}_seed_{seed}\"\n",
    "\n",
    "os.makedirs(f\"{save_dir}/{ckpt_name}\", exist_ok=True)\n",
    "inference_model.save_pretrained(f\"{save_dir}/{ckpt_name}\")\n",
    "\n",
    "print(f\"Saved model to {save_dir}/{ckpt_name}\")"
   ]
  },
  {
   "attachments": {},
   "cell_type": "markdown",
   "metadata": {},
   "source": [
    "# Evaluation\n"
   ]
  },
  {
   "cell_type": "code",
   "execution_count": 25,
   "metadata": {},
   "outputs": [],
   "source": [
    "# # ckpt_name = f\"rng_{model_to_use}_bsz_{bsz}_grad_acc_{grad_acc}_lr_{lr}_warmup_steps_{warmup_steps}_total_steps_{total_steps}_subtb_lambda_{subtb_lambda}_max_len_{max_len}_min_len_{min_len}_eval_interval_{eval_interval}_log_interval_{log_interval}_seed_{seed}\"\n",
    "\n",
    "# ckpt_name = \"rng_gpt-j_50samples_len5_3000steps_rewtemp5.0_seed_True\"\n",
    "# model_path = f\"{save_dir}/{ckpt_name}\"\n",
    "# inference_model = PeftModel.from_pretrained(model, model_path)"
   ]
  },
  {
   "cell_type": "code",
   "execution_count": 26,
   "metadata": {},
   "outputs": [
    {
     "name": "stderr",
     "output_type": "stream",
     "text": [
      "Setting `pad_token_id` to `eos_token_id`:50256 for open-end generation.\n",
      "Setting `pad_token_id` to `eos_token_id`:50256 for open-end generation.\n"
     ]
    },
    {
     "name": "stdout",
     "output_type": "stream",
     "text": [
      "['75', '<|endoftext|>']\n",
      "['96', '<|endoftext|>']\n"
     ]
    }
   ],
   "source": [
    "inference_model.eval()\n",
    "with torch.inference_mode():\n",
    "    prompt_test = \"Randomly generate (uniformly) one single random integer between 0 and 520, and then stop: \"\n",
    "    print(\n",
    "        [\n",
    "            tokenizer.decode(t)\n",
    "            for t in inference_model.generate(\n",
    "                **tokenizer(prompt_test, return_tensors=\"pt\").to(\"cuda\"),\n",
    "                max_new_tokens=30,\n",
    "                temperature=0,\n",
    "            )[0][len(tokenizer.encode(prompt_test)) :]\n",
    "        ]\n",
    "    )\n",
    "\n",
    "    prompt_test = (\n",
    "        \"Here is one single random integer sampled uniformly between 0 and 520: \"\n",
    "    )\n",
    "    print(\n",
    "        [\n",
    "            tokenizer.decode(t)\n",
    "            for t in inference_model.generate(\n",
    "                **tokenizer(prompt_test, return_tensors=\"pt\").to(\"cuda\"),\n",
    "                max_new_tokens=30,\n",
    "                temperature=0,\n",
    "            )[0][len(tokenizer.encode(prompt_test)) :]\n",
    "        ]\n",
    "    )"
   ]
  },
  {
   "cell_type": "code",
   "execution_count": 27,
   "metadata": {},
   "outputs": [],
   "source": [
    "from rng.rng_utils import get_distribution\n",
    "\n",
    "n_max = 100\n",
    "intro_prompt = f\"The following is a random integer drawn uniformly between 0 and \"\n",
    "prompt = f\"{intro_prompt}{n_max}: \""
   ]
  },
  {
   "cell_type": "code",
   "execution_count": 41,
   "metadata": {},
   "outputs": [],
   "source": [
    "from rng.rng_plot import plot_distribution\n",
    "\n",
    "n_samples = 1000 * 512"
   ]
  },
  {
   "cell_type": "code",
   "execution_count": 42,
   "metadata": {},
   "outputs": [
    {
     "name": "stderr",
     "output_type": "stream",
     "text": [
      "100%|██████████| 1000/1000 [14:01<00:00,  1.19it/s]\n"
     ]
    }
   ],
   "source": [
    "inference_model.eval()\n",
    "inference_model.base_model.enable_adapter_layers()\n",
    "\n",
    "dist_inference, number_of_NaNs_inference = get_distribution(\n",
    "    inference_model, tokenizer, prompt, num_samples=n_samples\n",
    ")"
   ]
  },
  {
   "cell_type": "code",
   "execution_count": 43,
   "metadata": {},
   "outputs": [
    {
     "name": "stdout",
     "output_type": "stream",
     "text": [
      "512000 numbers, 0 NaNs\n"
     ]
    }
   ],
   "source": [
    "number_of_numbers = len(dist_inference)\n",
    "\n",
    "print(f\"{number_of_numbers} numbers, {number_of_NaNs_inference} NaNs\")"
   ]
  },
  {
   "cell_type": "code",
   "execution_count": 44,
   "metadata": {},
   "outputs": [
    {
     "data": {
      "text/markdown": [
       "## GFN-finetuned Model: Distribution of generated numbers"
      ],
      "text/plain": [
       "<IPython.core.display.Markdown object>"
      ]
     },
     "metadata": {},
     "output_type": "display_data"
    },
    {
     "data": {
      "image/png": "[encoded data removed]",
      "text/plain": [
       "<Figure size 640x480 with 1 Axes>"
      ]
     },
     "metadata": {},
     "output_type": "display_data"
    }
   ],
   "source": [
    "plot_distribution(\n",
    "    dist_inference,\n",
    "    n_max=n_max,\n",
    "    model_name=\"GFN-finetuned Model\",\n",
    "    color=\"lightseagreen\",\n",
    "    number_of_NaNs=number_of_NaNs_inference,\n",
    "    xlims=(-5, 105),\n",
    ")"
   ]
  },
  {
   "cell_type": "code",
   "execution_count": 45,
   "metadata": {},
   "outputs": [
    {
     "name": "stderr",
     "output_type": "stream",
     "text": [
      "100%|██████████| 1000/1000 [46:27<00:00,  2.79s/it]\n"
     ]
    }
   ],
   "source": [
    "inference_model.base_model.disable_adapter_layers()\n",
    "\n",
    "dist_vanilla, number_of_NaNs_vanilla = get_distribution(\n",
    "    inference_model, tokenizer, prompt, num_samples=n_samples\n",
    ")\n",
    "\n",
    "# plot_distribution(\n",
    "#     dist_vanilla,\n",
    "#     model_name=\"Vanilla Model\",\n",
    "#     color=\"darksalmon\",\n",
    "#     number_of_NaNs=number_of_NaNs,\n",
    "# )"
   ]
  },
  {
   "cell_type": "code",
   "execution_count": 46,
   "metadata": {},
   "outputs": [
    {
     "name": "stdout",
     "output_type": "stream",
     "text": [
      "498561 numbers, 13439 NaNs\n"
     ]
    }
   ],
   "source": [
    "number_of_numbers_vanilla = len(dist_vanilla)\n",
    "\n",
    "print(f\"{number_of_numbers_vanilla} numbers, {number_of_NaNs_vanilla} NaNs\")"
   ]
  },
  {
   "cell_type": "code",
   "execution_count": 47,
   "metadata": {},
   "outputs": [
    {
     "data": {
      "text/markdown": [
       "## Vanilla Model: Distribution of generated numbers"
      ],
      "text/plain": [
       "<IPython.core.display.Markdown object>"
      ]
     },
     "metadata": {},
     "output_type": "display_data"
    },
    {
     "data": {
      "image/png": "[encoded data removed]",
      "text/plain": [
       "<Figure size 640x480 with 1 Axes>"
      ]
     },
     "metadata": {},
     "output_type": "display_data"
    }
   ],
   "source": [
    "plot_distribution(\n",
    "    dist_vanilla,\n",
    "    n_max=n_max,\n",
    "    model_name=\"Vanilla Model\",\n",
    "    color=\"darksalmon\",\n",
    "    xlims=(-5, 105),\n",
    "    number_of_NaNs=number_of_NaNs_vanilla,\n",
    ")"
   ]
  },
  {
   "cell_type": "code",
   "execution_count": 49,
   "metadata": {},
   "outputs": [],
   "source": [
    "if not os.path.exists(\"plots\"):\n",
    "    os.makedirs(\"plots\")\n",
    "\n",
    "df_inference = pd.DataFrame(dist_inference, columns=[\"Generated Numbers\"])\n",
    "df_inference.to_csv(\n",
    "    f\"plots/GFN_nb-numbers_{number_of_numbers}_nb-NaNs_{number_of_NaNs_inference}_{ckpt_name}.csv\",\n",
    "    index=False,\n",
    ")\n",
    "\n",
    "df_vanilla = pd.DataFrame(dist_vanilla, columns=[\"Generated Numbers\"])\n",
    "df_vanilla.to_csv(\n",
    "    f\"plots/Vanilla_nb-numbers_{number_of_numbers_vanilla}_nb-NaNs_{number_of_NaNs_vanilla}_{ckpt_name}.csv\",\n",
    "    index=False,\n",
    ")"
   ]
  },
  {
   "cell_type": "code",
   "execution_count": 50,
   "metadata": {},
   "outputs": [
    {
     "name": "stdout",
     "output_type": "stream",
     "text": [
      "plots/Vanilla_nb-numbers_498561_nb-NaNs_13439_rng-GFN_gpt-j_bsz_8_grad_acc_8_lr_0.0005_warmup_steps_10_total_steps_2560_subtb_lambda_1.0_max_len_5_min_len_1_eval_interval_100_log_interval_10_seed_42.csv\n",
      "plots/GFN_nb-numbers_512000_nb-NaNs_0_rng-GFN_gpt-j_bsz_8_grad_acc_8_lr_0.0005_warmup_steps_10_total_steps_2560_subtb_lambda_1.0_max_len_5_min_len_1_eval_interval_100_log_interval_10_seed_42.csv\n"
     ]
    }
   ],
   "source": [
    "print(\n",
    "    f\"plots/Vanilla_nb-numbers_{number_of_numbers_vanilla}_nb-NaNs_{number_of_NaNs_vanilla}_{ckpt_name}.csv\"\n",
    ")\n",
    "print(\n",
    "    f\"plots/GFN_nb-numbers_{number_of_numbers}_nb-NaNs_{number_of_NaNs_inference}_{ckpt_name}.csv\"\n",
    ")"
   ]
  },
  {
   "cell_type": "code",
   "execution_count": 55,
   "metadata": {},
   "outputs": [
    {
     "data": {
      "text/plain": [
       "[]"
      ]
     },
     "execution_count": 55,
     "metadata": {},
     "output_type": "execute_result"
    },
    {
     "data": {
      "image/png": "[encoded data removed]",
      "text/plain": [
       "<Figure size 640x480 with 1 Axes>"
      ]
     },
     "metadata": {},
     "output_type": "display_data"
    }
   ],
   "source": [
    "# Count the values with Counter\n",
    "from collections import Counter\n",
    "\n",
    "Counter(df_inference[\"Generated Numbers\"].to_list())\n",
    "\n",
    "# Plot\n",
    "sns.set_theme(style=\"whitegrid\")\n",
    "plot = sns.histplot(\n",
    "    df_inference[\"Generated Numbers\"],\n",
    "    kde=True,\n",
    "    color=\"lightseagreen\",\n",
    "    linewidth=0,\n",
    "    bins=n_max - 1,\n",
    ")\n",
    "\n",
    "plt.plot()"
   ]
  },
  {
   "cell_type": "code",
   "execution_count": 53,
   "metadata": {},
   "outputs": [
    {
     "data": {
      "text/plain": [
       "<Axes: title={'center': 'Distribution of generated numbers between 0 and 100 (512000 samples)'}, xlabel='Number', ylabel='Count'>"
      ]
     },
     "execution_count": 53,
     "metadata": {},
     "output_type": "execute_result"
    },
    {
     "data": {
      "image/png": "[encoded data removed]",
      "text/plain": [
       "<Figure size 640x480 with 1 Axes>"
      ]
     },
     "metadata": {},
     "output_type": "display_data"
    }
   ],
   "source": [
    "def clean_data(df_inference):\n",
    "    # Performed 1 aggregation grouped on column: 'Generated Numbers'\n",
    "    df_inference = (\n",
    "        df_inference.groupby([\"Generated Numbers\"])\n",
    "        .agg(Generated_numbers_count=(\"Generated Numbers\", \"count\"))\n",
    "        .reset_index()\n",
    "    )\n",
    "\n",
    "    # Normalize Generated_numbers_count into Generated_numbers_count_normalized\n",
    "    df_inference[\"Generated_numbers_count_normalized\"] = (\n",
    "        df_inference[\"Generated_numbers_count\"]\n",
    "        / df_inference[\"Generated_numbers_count\"].sum()\n",
    "    )\n",
    "\n",
    "    return df_inference\n",
    "\n",
    "\n",
    "df_inference_clean = clean_data(df_inference.copy())\n",
    "\n",
    "df_inference_clean.plot(\n",
    "    x=\"Generated Numbers\",\n",
    "    y=\"Generated_numbers_count_normalized\",\n",
    "    kind=\"line\",\n",
    "    title=f\"Distribution of generated numbers between 0 and {n_max} ({len(dist_inference)} samples)\",\n",
    "    xlabel=\"Number\",\n",
    "    ylabel=\"Count\",\n",
    "    xlim=(-11, 101),\n",
    "    ylim=(0, 0.012),\n",
    ")"
   ]
  },
  {
   "cell_type": "code",
   "execution_count": null,
   "metadata": {},
   "outputs": [],
   "source": []
  }
 ],
 "metadata": {
  "accelerator": "GPU",
  "colab": {
   "provenance": []
  },
  "gpuClass": "standard",
  "kernelspec": {
   "display_name": "Python (myenv)",
   "language": "python",
   "name": "myenv"
  }
 },
 "nbformat": 4,
 "nbformat_minor": 4
}
