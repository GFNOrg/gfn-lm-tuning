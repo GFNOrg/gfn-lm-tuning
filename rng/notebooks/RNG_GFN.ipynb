{
 "cells": [
  {
   "attachments": {},
   "cell_type": "markdown",
   "metadata": {
    "notebookRunGroups": {
     "groupValue": "12"
    }
   },
   "source": [
    "# Random Number Generation Experiments\n"
   ]
  },
  {
   "attachments": {},
   "cell_type": "markdown",
   "metadata": {
    "notebookRunGroups": {
     "groupValue": "2"
    }
   },
   "source": [
    "![RNG diagram](../rng.png)\n"
   ]
  },
  {
   "attachments": {},
   "cell_type": "markdown",
   "metadata": {},
   "source": [
    "## Introduction\n",
    "\n",
    "This notebook sets up experiments comparing different methods for training language models to generate random numbers from specified distributions.\n",
    "\n",
    "We will focus on sampling numbers from various distributions.\n",
    "\n",
    "The models we will compare are:\n",
    "\n",
    "- GFN-fine-tuned LM: Fine-tuned via generative flow networks\n",
    "- Likelihood-trained LM: Supervised-fine-tuned LM\n",
    "- RL-tuned LM: Fine-tuned via reinforcement learning (PPO)\n"
   ]
  },
  {
   "attachments": {},
   "cell_type": "markdown",
   "metadata": {},
   "source": [
    "Several axes of experimentation:\n",
    "\n",
    "- vary the distribution\n",
    "  - discrete: uniform, Poisson, Binomial, Geometric, etc\n",
    "  - continuous: uniform, Gaussian, exponential, etc\n",
    "- vary the hyperparameters of the distribution (in the context)\n",
    "  - Uniform: between 0 and `n_max`\n",
    "  - Poisson: `lambda` between `λ_min` and `λ_max`\n",
    "  - etc\n",
    "- vary the prompt\n",
    "  - 'Randomly generate (uniformly) one single random integer between 0 and {num_test}, and then stop: '\n",
    "  - 'Randomly generate (uniformly) one single random integer in the interval [0, {num_test}]: '\n",
    "  - 'Here is one single random integer sampled uniformly between 0 and {num_test}: '\n",
    "  - \"The following is a random integer drawn uniformly between 0 and {num_test}: \"\n",
    "  - etc\n",
    "- vary the model\n",
    "  - GFN-LM\n",
    "  - PPO\n",
    "  - MLE (SFT)\n"
   ]
  },
  {
   "attachments": {},
   "cell_type": "markdown",
   "metadata": {},
   "source": [
    "## General imports\n"
   ]
  },
  {
   "cell_type": "code",
   "execution_count": null,
   "metadata": {},
   "outputs": [],
   "source": [
    "import os\n",
    "import sys\n",
    "import hydra\n",
    "from hydra.experimental import initialize, compose\n",
    "import wandb"
   ]
  },
  {
   "cell_type": "code",
   "execution_count": 2,
   "metadata": {
    "id": "xq77AgKWJM-N"
   },
   "outputs": [],
   "source": [
    "import random\n",
    "import numpy as np\n",
    "from tqdm import tqdm\n",
    "import pandas as pd\n",
    "\n",
    "from transformers import AutoTokenizer, AutoModelForCausalLM\n",
    "import torch\n",
    "import torch.nn.functional as F\n",
    "from peft import LoraConfig, get_peft_model, PeftModel\n",
    "\n",
    "from rng.rng_utils import generate, generate_and_return_eos_logprob"
   ]
  },
  {
   "cell_type": "code",
   "execution_count": null,
   "metadata": {},
   "outputs": [],
   "source": [
    "import matplotlib\n",
    "import matplotlib.font_manager\n",
    "import matplotlib.pyplot as plt\n",
    "import shutil\n",
    "\n",
    "import seaborn as sns\n",
    "from IPython.display import display, Markdown\n",
    "\n",
    "# # Remove the matplotlib cache\n",
    "# shutil.rmtree(matplotlib.get_cachedir())\n",
    "\n",
    "fonts = matplotlib.font_manager.findSystemFonts(fontpaths=None, fontext=\"ttf\")\n",
    "\n",
    "# print the names of all fonts\n",
    "font_names = [matplotlib.font_manager.get_font(x).family_name for x in fonts]\n",
    "print(font_names)\n",
    "\n",
    "fonts = [f.name for f in matplotlib.font_manager.fontManager.ttflist]\n",
    "print(fonts)\n",
    "print(\"Times New Roman\" in fonts)\n",
    "\n",
    "plt.rcParams[\"font.family\"] = \"Times New Roman\"\n",
    "matplotlib.rc(\"font\", family=\"Times New Roman\")\n",
    "\n",
    "print(matplotlib.get_configdir())\n",
    "print(matplotlib.get_cachedir())"
   ]
  },
  {
   "cell_type": "code",
   "execution_count": null,
   "metadata": {},
   "outputs": [],
   "source": [
    "%load_ext autoreload\n",
    "%autoreload 2"
   ]
  },
  {
   "cell_type": "code",
   "execution_count": null,
   "metadata": {},
   "outputs": [
    {
     "name": "stdout",
     "output_type": "stream",
     "text": [
      "Thu Sep 28 23:56:00 2023       \n",
      "+---------------------------------------------------------------------------------------+\n",
      "| NVIDIA-SMI 535.54.03              Driver Version: 535.54.03    CUDA Version: 12.2     |\n",
      "|-----------------------------------------+----------------------+----------------------+\n",
      "| GPU  Name                 Persistence-M | Bus-Id        Disp.A | Volatile Uncorr. ECC |\n",
      "| Fan  Temp   Perf          Pwr:Usage/Cap |         Memory-Usage | GPU-Util  Compute M. |\n",
      "|                                         |                      |               MIG M. |\n",
      "|=========================================+======================+======================|\n",
      "|   0  NVIDIA A100-SXM4-80GB          On  | 00000000:0F:00.0 Off |                    0 |\n",
      "| N/A   25C    P0              60W / 400W |      7MiB / 81920MiB |      0%      Default |\n",
      "|                                         |                      |             Disabled |\n",
      "+-----------------------------------------+----------------------+----------------------+\n",
      "                                                                                         \n",
      "+---------------------------------------------------------------------------------------+\n",
      "| Processes:                                                                            |\n",
      "|  GPU   GI   CI        PID   Type   Process name                            GPU Memory |\n",
      "|        ID   ID                                                             Usage      |\n",
      "|=======================================================================================|\n",
      "|  No running processes found                                                           |\n",
      "+---------------------------------------------------------------------------------------+\n"
     ]
    }
   ],
   "source": [
    "!nvidia-smi"
   ]
  },
  {
   "cell_type": "code",
   "execution_count": 7,
   "metadata": {},
   "outputs": [],
   "source": [
    "import gc\n",
    "\n",
    "with torch.no_grad():\n",
    "    gc.collect()\n",
    "    torch.cuda.empty_cache()"
   ]
  },
  {
   "attachments": {},
   "cell_type": "markdown",
   "metadata": {},
   "source": [
    "# Load the pretrained model\n"
   ]
  },
  {
   "cell_type": "code",
   "execution_count": null,
   "metadata": {},
   "outputs": [],
   "source": [
    "# Initialize Hydra\n",
    "hydra.core.global_hydra.GlobalHydra.instance().clear()\n",
    "initialize(config_path=\"multiobjective-lm/rng/configs\")\n",
    "cfg = compose(config_name=\"config\")\n",
    "\n",
    "bsz = cfg.hparams.GFN.bsz\n",
    "grad_acc = cfg.hparams.grad_acc\n",
    "lr = cfg.hparams.lr\n",
    "warmup_steps = cfg.hparams.warmup_steps\n",
    "subtb_lambda = cfg.hparams.GFN.subtb_lambda\n",
    "max_len = cfg.hparams.max_len\n",
    "min_len = cfg.hparams.min_len\n",
    "eval_interval = cfg.hparams.eval_interval\n",
    "log_interval = cfg.hparams.log_interval\n",
    "model_to_use = cfg.hparams.model_to_use\n",
    "seed = cfg.hparams.seed\n",
    "save_dir = cfg.hparams.save_dir\n",
    "epochs = cfg.hparams.epochs"
   ]
  },
  {
   "cell_type": "code",
   "execution_count": 10,
   "metadata": {},
   "outputs": [],
   "source": [
    "# Set the seed\n",
    "torch.manual_seed(seed)\n",
    "random.seed(seed)\n",
    "np.random.seed(seed)\n",
    "torch.manual_seed(seed)\n",
    "torch.backends.cudnn.deterministic = True\n",
    "torch.backends.cudnn.benchmark = False"
   ]
  },
  {
   "cell_type": "code",
   "execution_count": 11,
   "metadata": {},
   "outputs": [
    {
     "data": {
      "text/plain": [
       "GPTJForCausalLM(\n",
       "  (transformer): GPTJModel(\n",
       "    (wte): Embedding(50400, 4096)\n",
       "    (drop): Dropout(p=0.0, inplace=False)\n",
       "    (h): ModuleList(\n",
       "      (0-27): 28 x GPTJBlock(\n",
       "        (ln_1): LayerNorm((4096,), eps=1e-05, elementwise_affine=True)\n",
       "        (attn): GPTJAttention(\n",
       "          (attn_dropout): Dropout(p=0.0, inplace=False)\n",
       "          (resid_dropout): Dropout(p=0.0, inplace=False)\n",
       "          (k_proj): Linear(in_features=4096, out_features=4096, bias=False)\n",
       "          (v_proj): Linear(in_features=4096, out_features=4096, bias=False)\n",
       "          (q_proj): Linear(in_features=4096, out_features=4096, bias=False)\n",
       "          (out_proj): Linear(in_features=4096, out_features=4096, bias=False)\n",
       "        )\n",
       "        (mlp): GPTJMLP(\n",
       "          (fc_in): Linear(in_features=4096, out_features=16384, bias=True)\n",
       "          (fc_out): Linear(in_features=16384, out_features=4096, bias=True)\n",
       "          (act): NewGELUActivation()\n",
       "          (dropout): Dropout(p=0.0, inplace=False)\n",
       "        )\n",
       "      )\n",
       "    )\n",
       "    (ln_f): LayerNorm((4096,), eps=1e-05, elementwise_affine=True)\n",
       "  )\n",
       "  (lm_head): Linear(in_features=4096, out_features=50400, bias=True)\n",
       ")"
      ]
     },
     "execution_count": 11,
     "metadata": {},
     "output_type": "execute_result"
    }
   ],
   "source": [
    "if model_to_use == \"gpt-j\":\n",
    "    tokenizer = AutoTokenizer.from_pretrained(\"nlpcloud/instruct-gpt-j-fp16\")\n",
    "    model = AutoModelForCausalLM.from_pretrained(\n",
    "        \"nlpcloud/instruct-gpt-j-fp16\", torch_dtype=torch.bfloat16\n",
    "    )\n",
    "elif model_to_use == \"gpt2\":\n",
    "    tokenizer = AutoTokenizer.from_pretrained(\"gpt2\")\n",
    "    model = AutoModelForCausalLM.from_pretrained(\"gpt2\")\n",
    "\n",
    "model.to(\"cuda\")"
   ]
  },
  {
   "attachments": {},
   "cell_type": "markdown",
   "metadata": {},
   "source": [
    "# Training\n"
   ]
  },
  {
   "attachments": {},
   "cell_type": "markdown",
   "metadata": {},
   "source": [
    "## LoRA, Optimizer\n"
   ]
  },
  {
   "cell_type": "code",
   "execution_count": 12,
   "metadata": {},
   "outputs": [],
   "source": [
    "lora_config = LoraConfig(\n",
    "    r=cfg.lora.r,\n",
    "    lora_alpha=cfg.lora.lora_alpha,\n",
    "    target_modules=[\"k_proj\", \"v_proj\"] if model_to_use == \"gpt-j\" else [\"c_attn\"],\n",
    "    lora_dropout=cfg.lora.lora_dropout,\n",
    "    bias=cfg.lora.bias,\n",
    ")\n",
    "inference_model = get_peft_model(model, lora_config)\n",
    "\n",
    "opt = torch.optim.AdamW(\n",
    "    [{\"params\": inference_model.parameters(), \"lr\": lr}],\n",
    "    betas=(cfg.adamw.b1, cfg.adamw.b2),\n",
    ")\n",
    "\n",
    "\n",
    "# learning rate schedule\n",
    "def get_lr_mult_at_step(step):\n",
    "    if step <= warmup_steps:\n",
    "        return min(step / warmup_steps, 1.0)\n",
    "    return max((total_steps - step) / (total_steps - warmup_steps), 0)\n",
    "\n",
    "\n",
    "sched = torch.optim.lr_scheduler.LambdaLR(opt, get_lr_mult_at_step)"
   ]
  },
  {
   "attachments": {},
   "cell_type": "markdown",
   "metadata": {},
   "source": [
    "## Dataloader and Scheduler\n"
   ]
  },
  {
   "cell_type": "code",
   "execution_count": 13,
   "metadata": {},
   "outputs": [
    {
     "name": "stderr",
     "output_type": "stream",
     "text": [
      "Tokenizing dataset...: 4096it [00:01, 2747.80it/s]\n"
     ]
    }
   ],
   "source": [
    "from rng.rng_dataset import get_dataloader_from_dataframe\n",
    "\n",
    "df_train = pd.read_csv(cfg.file_name.train)\n",
    "\n",
    "train_loader = get_dataloader_from_dataframe(df_train, tokenizer, bsz=bsz, shuffle=True)"
   ]
  },
  {
   "cell_type": "code",
   "execution_count": 14,
   "metadata": {},
   "outputs": [],
   "source": [
    "total_steps = epochs * len(train_loader)\n",
    "\n",
    "\n",
    "# learning rate schedule\n",
    "def get_lr_mult_at_step(step):\n",
    "    if step <= warmup_steps:\n",
    "        return min(step / warmup_steps, 1.0)\n",
    "    return max((total_steps - step) / (total_steps - warmup_steps), 0)\n",
    "\n",
    "\n",
    "sched = torch.optim.lr_scheduler.LambdaLR(opt, get_lr_mult_at_step)"
   ]
  },
  {
   "attachments": {},
   "cell_type": "markdown",
   "metadata": {},
   "source": [
    "## Tests\n"
   ]
  },
  {
   "cell_type": "code",
   "execution_count": 15,
   "metadata": {},
   "outputs": [
    {
     "name": "stdout",
     "output_type": "stream",
     "text": [
      "Tokenized num_test:  [940] \n",
      "\n",
      "\n"
     ]
    },
    {
     "name": "stdout",
     "output_type": "stream",
     "text": [
      "Tokenized prompt 'Randomly generate (uniformly) one single random integer between 0 and 10, and then stop: ': \n",
      "\t Random|ly| generate| (|un|iform|ly|)| one| single| random| integer| between| 0| and| 10|,| and| then| stop|:|  \n",
      "\t [29531, 306, 7716, 357, 403, 6933, 306, 8, 530, 2060, 4738, 18253, 1022, 657, 290, 838, 11, 290, 788, 2245, 25, 220] \n",
      "\t \t ⟶ Contains tokenized `num_test`?  False \n",
      " Model response: \n",
      "\t [' the', ' number', ' you', ' generated', '.', '\\n', '<|endoftext|>'] \n",
      "\n",
      "\n",
      "\n",
      "Tokenized prompt 'Randomly generate (uniformly) one single random integer in the interval [0, 10]: ': \n",
      "\t Random|ly| generate| (|un|iform|ly|)| one| single| random| integer| in| the| interval| [|0|,| 10|]:|  \n",
      "\t [29531, 306, 7716, 357, 403, 6933, 306, 8, 530, 2060, 4738, 18253, 287, 262, 16654, 685, 15, 11, 838, 5974, 220] \n",
      "\t \t ⟶ Contains tokenized `num_test`?  False \n",
      " Model response: \n",
      "\t [' \\\\', 'n', '\\\\', 'n', 'The', ' randomly', ' generated', ' integer', ' is', ':', ' 8', '\\n', '<|endoftext|>'] \n",
      "\n",
      "\n",
      "\n",
      "Tokenized prompt 'Here is one single random integer sampled uniformly between 0 and 10: ': \n",
      "\t Here| is| one| single| random| integer| sampled| uniformly| between| 0| and| 10|:|  \n",
      "\t [4342, 318, 530, 2060, 4738, 18253, 35846, 42096, 1022, 657, 290, 838, 25, 220] \n",
      "\t \t ⟶ Contains tokenized `num_test`?  False \n",
      " Model response: \n",
      "\t [' 4', '.', '\\n', '<|endoftext|>'] \n",
      "\n",
      "\n",
      "\n",
      "Tokenized prompt 'The following is a random integer drawn uniformly between 0 and 10: ': \n",
      "\t The| following| is| a| random| integer| drawn| uniformly| between| 0| and| 10|:|  \n",
      "\t [464, 1708, 318, 257, 4738, 18253, 7428, 42096, 1022, 657, 290, 838, 25, 220] \n",
      "\t \t ⟶ Contains tokenized `num_test`?  False \n",
      " Model response: \n",
      "\t [' 4', '\\n', '<|endoftext|>'] \n",
      "\n",
      "\n",
      "\n"
     ]
    }
   ],
   "source": [
    "num_test = 10\n",
    "print(\"Tokenized num_test: \", tokenizer.encode(str(num_test)), \"\\n\\n\")\n",
    "\n",
    "\n",
    "def test_prompt(prompt_test, num_test=num_test):\n",
    "    tokenzed_prompt_test = tokenizer(prompt_test, return_tensors=\"pt\").to(\"cuda\")\n",
    "    print(\n",
    "        f\"Tokenized prompt '{prompt_test}': \\n\\t\",\n",
    "        \"|\".join(\n",
    "            tokenizer.decode(t) for t in tokenzed_prompt_test[\"input_ids\"].tolist()[0]\n",
    "        ),\n",
    "        \"\\n\\t\",\n",
    "        tokenzed_prompt_test[\"input_ids\"].tolist()[0],\n",
    "        \"\\n\\t\",\n",
    "        \"\\t ⟶ Contains tokenized `num_test`? \",\n",
    "        num_test in tokenzed_prompt_test[\"input_ids\"].tolist()[0],\n",
    "        \"\\n\",\n",
    "        \"Model response: \\n\\t\",\n",
    "        [\n",
    "            tokenizer.decode(t)\n",
    "            for t in model.generate(\n",
    "                **tokenzed_prompt_test,\n",
    "                max_new_tokens=30,\n",
    "                temperature=0,\n",
    "                pad_token_id=tokenizer.eos_token_id,\n",
    "            )[0][len(tokenizer.encode(prompt_test)) :]\n",
    "        ],\n",
    "        \"\\n\\n\\n\",\n",
    "    )\n",
    "\n",
    "\n",
    "prompt_tests = [\n",
    "    f\"Randomly generate (uniformly) one single random integer between 0 and {num_test}, and then stop: \",\n",
    "    f\"Randomly generate (uniformly) one single random integer in the interval [0, {num_test}]: \",\n",
    "    f\"Here is one single random integer sampled uniformly between 0 and {num_test}: \",\n",
    "    f\"The following is a random integer drawn uniformly between 0 and {num_test}: \",\n",
    "]\n",
    "\n",
    "for prompt_test in prompt_tests:\n",
    "    test_prompt(prompt_test)"
   ]
  },
  {
   "cell_type": "code",
   "execution_count": 18,
   "metadata": {},
   "outputs": [
    {
     "name": "stdout",
     "output_type": "stream",
     "text": [
      "The first number that requires more than 1 token is: (521, [20, 2481])\n",
      "The second number that requires more than 1 token is: (527, [20, 1983])\n",
      "The third number that requires more than 1 token is: (531, [20, 3132])\n"
     ]
    }
   ],
   "source": [
    "numbers = range(1, 1001)\n",
    "\n",
    "num_more_than_one_token = (\n",
    "    (num, tokens) for num in numbers if len(tokens := tokenizer.encode(str(num))) > 1\n",
    ")\n",
    "\n",
    "first_number_more_than_one, first_number_more_than_one_token = next(\n",
    "    num_more_than_one_token\n",
    ")\n",
    "print(\n",
    "    f\"The first number that requires more than 1 token is: {first_number_more_than_one, first_number_more_than_one_token}\"\n",
    ")\n",
    "print(\n",
    "    f\"The second number that requires more than 1 token is: {next(num_more_than_one_token)}\"\n",
    ")\n",
    "print(\n",
    "    f\"The third number that requires more than 1 token is: {next(num_more_than_one_token)}\"\n",
    ")"
   ]
  },
  {
   "cell_type": "code",
   "execution_count": 20,
   "metadata": {},
   "outputs": [
    {
     "data": {
      "text/plain": [
       "50400"
      ]
     },
     "execution_count": 20,
     "metadata": {},
     "output_type": "execute_result"
    }
   ],
   "source": [
    "num_tokens = [tokenizer.encode(str(num)) for num in range(first_number_more_than_one)]\n",
    "\n",
    "allowed_indices = torch.tensor(\n",
    "    [token for sublist in num_tokens for token in sublist], device=\"cuda\"\n",
    ")\n",
    "\n",
    "vocab_nice_list = torch.zeros(len(tokenizer.vocab), device=\"cuda\").bool()\n",
    "vocab_nice_list[allowed_indices] = True\n",
    "vocab_nice_list[tokenizer.eos_token_id] = True\n",
    "len(vocab_nice_list)"
   ]
  },
  {
   "cell_type": "code",
   "execution_count": 21,
   "metadata": {},
   "outputs": [],
   "source": [
    "n_max = cfg.distributions[\"uniform discrete\"].parameters.b\n",
    "eos_token_id = tokenizer.eos_token_id\n",
    "eos_string = tokenizer.decode(eos_token_id)\n",
    "tokens_of_numbers = (\n",
    "    torch.tensor([tokenizer.encode(str(num)) for num in range(n_max)]).view(-1).cuda()\n",
    ")"
   ]
  },
  {
   "attachments": {},
   "cell_type": "markdown",
   "metadata": {},
   "source": [
    "## Training loop\n"
   ]
  },
  {
   "cell_type": "code",
   "execution_count": null,
   "metadata": {
    "colab": {
     "base_uri": "https://localhost:8080/"
    },
    "id": "dph6LMlH0ooD",
    "outputId": "cb17a778-4221-421b-f6b2-f163cad72797",
    "scrolled": true
   },
   "outputs": [],
   "source": [
    "wandb.init(project=\"gfn-finetuning\")\n",
    "# columns = [\"Epoch\", \"Step\", \"Input prompt\", \"Response\", \"Reward\"]\n",
    "# examples_generation_table = wandb.Table(columns=columns)\n",
    "\n",
    "\n",
    "@torch.inference_mode()\n",
    "def reward_fn(x, n_max=n_max, skip_first=1):\n",
    "    # Get the token ids after skip_first\n",
    "    token_ids = x[:, skip_first:]\n",
    "\n",
    "    # print(\"x \", x)\n",
    "\n",
    "    if token_ids.shape[1] == 0:\n",
    "        return torch.full((x.shape[0],), fill_value=-8).cuda()\n",
    "\n",
    "    # Initialize rewards to a low value\n",
    "    rew = torch.full(token_ids.shape, fill_value=-8).cuda() * torch.arange(\n",
    "        1, token_ids.shape[1] + 1, device=\"cuda\"\n",
    "    )\n",
    "\n",
    "    # Create a mask where the first token is in the list of tokenized permitted numbers\n",
    "    tokenized_permitted_numbers_mask = tokens_of_numbers[:n_max]\n",
    "    first_token_mask = torch.cat(\n",
    "        (\n",
    "            (token_ids[:, 0].unsqueeze(-1) == tokenized_permitted_numbers_mask)\n",
    "            .any(dim=-1)\n",
    "            .unsqueeze(-1),\n",
    "            torch.zeros(\n",
    "                token_ids.shape[0], token_ids.shape[1] - 1, device=\"cuda\"\n",
    "            ).bool(),\n",
    "        ),\n",
    "        dim=-1,\n",
    "    )\n",
    "\n",
    "    # Create a mask where the remaining tokens are the eos_token_id\n",
    "    remaining_eos_tokens_mask = torch.cat(\n",
    "        (\n",
    "            torch.zeros(token_ids.shape[0], 1, device=\"cuda\").bool(),\n",
    "            token_ids[:, 1:] == eos_token_id,\n",
    "        ),\n",
    "        dim=-1,\n",
    "    )\n",
    "\n",
    "    # Set the reward to 8 (resp. 0) where\n",
    "    # the token is the first token and in the list of tokenized permitted numbers,\n",
    "    # (resp. it is one of the remaining tokens and equal to eos_token_id)\n",
    "    rew[first_token_mask] = 8\n",
    "    rew[remaining_eos_tokens_mask] = 0\n",
    "\n",
    "    # return torch.cat((res[:, :1], res), dim=-1)\n",
    "    # return torch.cat((rew, rew.new_full((rew.shape[0], 1), 0)), dim=-1).cumsum(dim=-1)\n",
    "    return rew.sum(dim=-1)\n",
    "\n",
    "\n",
    "inference_model.train()\n",
    "for epoch in range(epochs):\n",
    "    for step, batch in tqdm(\n",
    "        enumerate(train_loader), desc=f\"Epoch {epoch}\", total=len(train_loader)\n",
    "    ):\n",
    "        opt.zero_grad()\n",
    "        loss = 0.0\n",
    "        for _ in tqdm(range(grad_acc), desc=f\"Step {step}\"):\n",
    "            encoded_input, _ = batch\n",
    "            (\n",
    "                generated_text,\n",
    "                logPF,\n",
    "                eos_logprob,\n",
    "                logrewards,\n",
    "            ) = generate_and_return_eos_logprob(\n",
    "                inference_model,\n",
    "                encoded_input,\n",
    "                eos_token_id=eos_token_id,\n",
    "                reward_fn=lambda x: reward_fn(\n",
    "                    x, n_max=n_max, skip_first=encoded_input.size(-1)\n",
    "                ),\n",
    "                # vocab_nice_mask=vocab_nice_list,\n",
    "                max_len=max_len,\n",
    "                min_len=min_len,\n",
    "                temperature=1,\n",
    "            )\n",
    "\n",
    "            # modified subTB loss with logpb=0\n",
    "            delta = (\n",
    "                logrewards[:, :-1]\n",
    "                - eos_logprob[:, :-1]\n",
    "                + logPF[:, :-1]\n",
    "                - (logrewards[:, 1:] - eos_logprob[:, 1:])\n",
    "            )\n",
    "            delta_cumsum = torch.cat([torch.zeros_like(delta[:, :1]), delta], 1).cumsum(\n",
    "                1\n",
    "            )\n",
    "\n",
    "            # get a mask for tokens after the first eos in generated_text\n",
    "            mask = (generated_text == eos_token_id).cumsum(dim=-1) >= 1\n",
    "            mask = mask[:, encoded_input.size(-1) :]\n",
    "            mask = mask[:, :max_len]\n",
    "            # if mask is too short, pad it\n",
    "            if mask.size(-1) < max_len:\n",
    "                mask = torch.cat(\n",
    "                    [\n",
    "                        mask,\n",
    "                        torch.ones(\n",
    "                            mask.size(0),\n",
    "                            max_len - mask.size(-1),\n",
    "                            dtype=torch.bool,\n",
    "                            device=\"cuda\",\n",
    "                        ),\n",
    "                    ],\n",
    "                    dim=-1,\n",
    "                )\n",
    "            # get trajectory lengths by summing the mask\n",
    "            batch_loss = 0.0\n",
    "            total_lambda = 0.0\n",
    "            for subtraj_len in range(1, max_len + 1):\n",
    "                subtb_term = (\n",
    "                    delta_cumsum[:, subtraj_len:] - delta_cumsum[:, :-subtraj_len]\n",
    "                ) ** 2\n",
    "                subtb_term[mask[:, subtraj_len - 1 :]] = 0\n",
    "                batch_loss += subtb_lambda ** (subtraj_len - 1) * subtb_term.sum()\n",
    "                total_lambda += (\n",
    "                    subtb_lambda ** (subtraj_len - 1)\n",
    "                    * (~mask[:, subtraj_len - 1 :]).sum()\n",
    "                )\n",
    "            batch_loss /= total_lambda\n",
    "\n",
    "            loss += batch_loss.mean()\n",
    "            batch_loss.mean().backward()\n",
    "            wandb.log({\"loss\": loss.item()})\n",
    "        opt.step()\n",
    "        sched.step()\n",
    "        if step % log_interval == 0:\n",
    "            print(f\"Epoch: {epoch}, Batch: {step}, Loss: {loss.item()}\")\n",
    "        for i in range(generated_text.size(0)):\n",
    "            wandb.log(\n",
    "                {\n",
    "                    \"epoch\": epoch,\n",
    "                    \"step\": step,\n",
    "                    \"input prompt\": tokenizer.decode(\n",
    "                        generated_text[i, : len(encoded_input[i])]\n",
    "                    )\n",
    "                    .replace(eos_string, \"\")\n",
    "                    .rstrip(),\n",
    "                    \"response\": tokenizer.decode(\n",
    "                        generated_text[i, len(encoded_input[i]) :]\n",
    "                    ),\n",
    "                    \"reward\": reward_fn(\n",
    "                        generated_text[i].unsqueeze(0), skip_first=len(encoded_input[i])\n",
    "                    ).item(),\n",
    "                }\n",
    "            )\n",
    "\n",
    "# wandb.log({\"examples generation\": examples_generation_table})\n",
    "wandb.finish()"
   ]
  },
  {
   "attachments": {},
   "cell_type": "markdown",
   "metadata": {},
   "source": [
    "### Test generations\n"
   ]
  },
  {
   "cell_type": "code",
   "execution_count": 25,
   "metadata": {},
   "outputs": [
    {
     "name": "stdout",
     "output_type": "stream",
     "text": [
      "Randomly generate one single random integer from a uniform discrete distribution with parameters a=0, b=100, and then stop: 49 ['17', '<|endoftext|>', '<|endoftext|>', '<|endoftext|>', '<|endoftext|>'] \n",
      "\t\t\t\t\t\t\t Reward: tensor([8], device='cuda:0') \n",
      "\n",
      "\n",
      "Randomly generate one single random integer from a uniform discrete distribution with parameters a=0, b=100, and then stop: 8 ['41', '<|endoftext|>', '<|endoftext|>', '<|endoftext|>', '<|endoftext|>'] \n",
      "\t\t\t\t\t\t\t Reward: tensor([8], device='cuda:0') \n",
      "\n",
      "\n",
      "Sample a single output from a uniform discrete distribution with parameters a=0, b=100: 78<|endoftext|><|endoftext|><|endoftext|><|endoftext|><|endoftext|><|endoftext|><|endoftext|> ['\\n', 'Produ', 'ce', ' a', ' list'] \n",
      "\t\t\t\t\t\t\t Reward: tensor([-120], device='cuda:0') \n",
      "\n",
      "\n",
      "Here is one single random integer sampled from a uniform discrete distribution with parameters a=0, b=100: 65<|endoftext|><|endoftext|><|endoftext|><|endoftext|> ['<|endoftext|>', '<|endoftext|>', '<|endoftext|>', '<|endoftext|>', '<|endoftext|>'] \n",
      "\t\t\t\t\t\t\t Reward: tensor([-8], device='cuda:0') \n",
      "\n",
      "\n",
      "Here is one single random integer sampled from a uniform discrete distribution with parameters a=0, b=100: 57<|endoftext|><|endoftext|><|endoftext|><|endoftext|> ['<|endoftext|>', '<|endoftext|>', '<|endoftext|>', '<|endoftext|>', '<|endoftext|>'] \n",
      "\t\t\t\t\t\t\t Reward: tensor([-8], device='cuda:0') \n",
      "\n",
      "\n",
      "Randomly generate one single random integer from a uniform discrete distribution with parameters a=0, b=100, and then stop: 22 ['67', '<|endoftext|>', '<|endoftext|>', '<|endoftext|>', '<|endoftext|>'] \n",
      "\t\t\t\t\t\t\t Reward: tensor([8], device='cuda:0') \n",
      "\n",
      "\n",
      "The following is a random integer drawn from a uniform discrete distribution with parameters a=0, b=100: 46<|endoftext|><|endoftext|><|endoftext|><|endoftext|> ['<|endoftext|>', '<|endoftext|>', '<|endoftext|>', '<|endoftext|>', '<|endoftext|>'] \n",
      "\t\t\t\t\t\t\t Reward: tensor([-8], device='cuda:0') \n",
      "\n",
      "\n",
      "The following is a random integer drawn from a uniform discrete distribution with parameters a=0, b=100: 23<|endoftext|><|endoftext|><|endoftext|><|endoftext|> ['<|endoftext|>', '<|endoftext|>', '<|endoftext|>', '<|endoftext|>', '<|endoftext|>'] \n",
      "\t\t\t\t\t\t\t Reward: tensor([-8], device='cuda:0') \n",
      "\n",
      "\n"
     ]
    }
   ],
   "source": [
    "test_results = generate(\n",
    "    inference_model,\n",
    "    encoded_input.repeat(8, 1),\n",
    "    eos_token_id=eos_token_id,\n",
    "    max_len=max_len,\n",
    "    temperature=1,\n",
    ")[0]\n",
    "\n",
    "for i in range(generated_text.size(0)):\n",
    "    print(\n",
    "        tokenizer.decode(test_results[i, : len(encoded_input[0])]),\n",
    "        [tokenizer.decode(t) for t in test_results[i, len(encoded_input[0]) :]],\n",
    "        \"\\n\\t\\t\\t\\t\\t\\t\\t Reward:\",\n",
    "        reward_fn(test_results[i].unsqueeze(0), skip_first=len(encoded_input[0])),\n",
    "        \"\\n\\n\",\n",
    "    )"
   ]
  },
  {
   "attachments": {},
   "cell_type": "markdown",
   "metadata": {},
   "source": [
    "### Save the model\n"
   ]
  },
  {
   "cell_type": "code",
   "execution_count": 26,
   "metadata": {},
   "outputs": [],
   "source": [
    "ckpt_name = f\"rng-GFN_{model_to_use}_bsz_{bsz}_grad_acc_{grad_acc}_lr_{lr}_warmup_steps_{warmup_steps}_total_steps_{total_steps}_subtb_lambda_{subtb_lambda}_max_len_{max_len}_min_len_{min_len}_eval_interval_{eval_interval}_log_interval_{log_interval}_seed_{seed}\"\n",
    "inference_model.save_pretrained(f\"{save_dir}/{ckpt_name}\")"
   ]
  },
  {
   "attachments": {},
   "cell_type": "markdown",
   "metadata": {},
   "source": [
    "# Evaluation\n"
   ]
  },
  {
   "cell_type": "code",
   "execution_count": 27,
   "metadata": {},
   "outputs": [],
   "source": [
    "# # ckpt_name = f\"rng_{model_to_use}_bsz_{bsz}_grad_acc_{grad_acc}_lr_{lr}_warmup_steps_{warmup_steps}_total_steps_{total_steps}_subtb_lambda_{subtb_lambda}_max_len_{max_len}_min_len_{min_len}_eval_interval_{eval_interval}_log_interval_{log_interval}_seed_{seed}\"\n",
    "\n",
    "# ckpt_name = \"rng_gpt-j_50samples_len5_3000steps_rewtemp5.0_seed_True\"\n",
    "# model_path = f\"{save_dir}/{ckpt_name}\"\n",
    "# inference_model = PeftModel.from_pretrained(model, model_path)"
   ]
  },
  {
   "cell_type": "code",
   "execution_count": 28,
   "metadata": {},
   "outputs": [
    {
     "name": "stderr",
     "output_type": "stream",
     "text": [
      "Setting `pad_token_id` to `eos_token_id`:50256 for open-end generation.\n",
      "Setting `pad_token_id` to `eos_token_id`:50256 for open-end generation.\n"
     ]
    },
    {
     "name": "stdout",
     "output_type": "stream",
     "text": [
      "['<|endoftext|>']\n",
      "['<|endoftext|>']\n"
     ]
    }
   ],
   "source": [
    "inference_model.eval()\n",
    "with torch.inference_mode():\n",
    "    prompt_test = \"Randomly generate (uniformly) one single random integer between 0 and 520, and then stop: \"\n",
    "    print(\n",
    "        [\n",
    "            tokenizer.decode(t)\n",
    "            for t in inference_model.generate(\n",
    "                **tokenizer(prompt_test, return_tensors=\"pt\").to(\"cuda\"),\n",
    "                max_new_tokens=30,\n",
    "                temperature=0\n",
    "            )[0][len(tokenizer.encode(prompt_test)) :]\n",
    "        ]\n",
    "    )\n",
    "\n",
    "    prompt_test = (\n",
    "        \"Here is one single random integer sampled uniformly between 0 and 520: \"\n",
    "    )\n",
    "    print(\n",
    "        [\n",
    "            tokenizer.decode(t)\n",
    "            for t in inference_model.generate(\n",
    "                **tokenizer(prompt_test, return_tensors=\"pt\").to(\"cuda\"),\n",
    "                max_new_tokens=30,\n",
    "                temperature=0\n",
    "            )[0][len(tokenizer.encode(prompt_test)) :]\n",
    "        ]\n",
    "    )"
   ]
  },
  {
   "cell_type": "code",
   "execution_count": 29,
   "metadata": {},
   "outputs": [],
   "source": [
    "from rng.rng_utils import get_distribution\n",
    "\n",
    "n_max = 100\n",
    "intro_prompt = f\"The following is a random integer drawn uniformly between 0 and \"\n",
    "prompt = f\"{intro_prompt}{n_max-1}: \""
   ]
  },
  {
   "cell_type": "code",
   "execution_count": 30,
   "metadata": {},
   "outputs": [],
   "source": [
    "from rng.rng_plot import plot_distribution\n",
    "\n",
    "n_samples = 1000 * 512"
   ]
  },
  {
   "cell_type": "code",
   "execution_count": 31,
   "metadata": {},
   "outputs": [
    {
     "name": "stderr",
     "output_type": "stream",
     "text": [
      "100%|██████████| 1000/1000 [17:13<00:00,  1.03s/it]\n"
     ]
    }
   ],
   "source": [
    "inference_model.base_model.enable_adapter_layers()\n",
    "\n",
    "dist_inference, number_of_NaNs_inference = get_distribution(\n",
    "    inference_model, tokenizer, prompt, num_samples=n_samples\n",
    ")"
   ]
  },
  {
   "cell_type": "code",
   "execution_count": 32,
   "metadata": {},
   "outputs": [
    {
     "name": "stdout",
     "output_type": "stream",
     "text": [
      "80001 numbers, 431999 NaNs\n"
     ]
    }
   ],
   "source": [
    "number_of_numbers = len(dist_inference)\n",
    "\n",
    "print(f\"{number_of_numbers} numbers, {number_of_NaNs_inference} NaNs\")"
   ]
  },
  {
   "cell_type": "code",
   "execution_count": null,
   "metadata": {},
   "outputs": [],
   "source": [
    "plot_distribution(\n",
    "    dist_inference,\n",
    "    n_max=n_max,\n",
    "    model_name=\"GFN-finetuned Model\",\n",
    "    color=\"lightseagreen\",\n",
    "    number_of_NaNs=number_of_NaNs_inference,\n",
    "    xlims=(-5, 105),\n",
    ")"
   ]
  },
  {
   "cell_type": "code",
   "execution_count": null,
   "metadata": {},
   "outputs": [],
   "source": [
    "inference_model.base_model.disable_adapter_layers()\n",
    "\n",
    "dist_vanilla, number_of_NaNs_vanilla = get_distribution(\n",
    "    inference_model, tokenizer, prompt, num_samples=n_samples\n",
    ")\n",
    "\n",
    "# plot_distribution(\n",
    "#     dist_vanilla,\n",
    "#     model_name=\"Vanilla Model\",\n",
    "#     color=\"darksalmon\",\n",
    "#     number_of_NaNs=number_of_NaNs,\n",
    "# )"
   ]
  },
  {
   "cell_type": "code",
   "execution_count": null,
   "metadata": {},
   "outputs": [],
   "source": [
    "number_of_numbers_vanilla = len(dist_vanilla)\n",
    "\n",
    "print(f\"{len(number_of_numbers_vanilla)} numbers, {number_of_NaNs_vanilla} NaNs\")"
   ]
  },
  {
   "cell_type": "code",
   "execution_count": null,
   "metadata": {},
   "outputs": [
    {
     "data": {
      "text/markdown": [
       "## Vanilla Model: Distribution of generated numbers"
      ],
      "text/plain": [
       "<IPython.core.display.Markdown object>"
      ]
     },
     "metadata": {},
     "output_type": "display_data"
    },
    {
     "data": {
      "image/png": "[encoded data removed]",
      "text/plain": [
       "<Figure size 640x480 with 1 Axes>"
      ]
     },
     "metadata": {},
     "output_type": "display_data"
    }
   ],
   "source": [
    "plot_distribution(\n",
    "    dist_vanilla,\n",
    "    n_max=n_max,\n",
    "    model_name=\"Vanilla Model\",\n",
    "    color=\"darksalmon\",\n",
    "    xlims=(-5, 105),\n",
    "    number_of_NaNs=number_of_NaNs_vanilla,\n",
    ")"
   ]
  },
  {
   "cell_type": "code",
   "execution_count": 34,
   "metadata": {},
   "outputs": [],
   "source": [
    "if not os.path.exists(\"plots\"):\n",
    "    os.makedirs(\"plots\")\n",
    "\n",
    "df_inference = pd.DataFrame(dist_inference, columns=[\"Generated Numbers\"])\n",
    "df_inference.to_csv(\n",
    "    f\"plots/GFN_nb-numbers_{number_of_numbers}_nb-NaNs_{number_of_NaNs_inference}_{ckpt_name}.csv\",\n",
    "    index=False,\n",
    ")\n",
    "\n",
    "# df_vanilla = pd.DataFrame(dist_vanilla, columns=[\"Generated Numbers\"])\n",
    "# df_vanilla.to_csv(\n",
    "#     f\"plots/Vanilla_nb-numbers_{number_of_numbers_vanilla}_nb-NaNs_{number_of_NaNs_vanilla}_{ckpt_name}.csv\",\n",
    "#     index=False,\n",
    "# )"
   ]
  },
  {
   "cell_type": "code",
   "execution_count": 66,
   "metadata": {},
   "outputs": [
    {
     "data": {
      "text/plain": [
       "[]"
      ]
     },
     "execution_count": 66,
     "metadata": {},
     "output_type": "execute_result"
    },
    {
     "data": {
      "image/png": "[encoded data removed]",
      "text/plain": [
       "<Figure size 640x480 with 1 Axes>"
      ]
     },
     "metadata": {},
     "output_type": "display_data"
    }
   ],
   "source": [
    "# Count the values with Counter\n",
    "from collections import Counter\n",
    "\n",
    "df_inference = pd.read_csv(\"dist_inference.csv\")\n",
    "\n",
    "Counter(df_inference[\"Generated Numbers\"].to_list())\n",
    "\n",
    "# Plot\n",
    "sns.set_theme(style=\"whitegrid\")\n",
    "plot = sns.histplot(\n",
    "    df_inference[\"Generated Numbers\"],\n",
    "    kde=True,\n",
    "    color=\"lightseagreen\",\n",
    "    linewidth=0,\n",
    "    bins=n_max,\n",
    ")\n",
    "\n",
    "plt.plot()"
   ]
  },
  {
   "cell_type": "code",
   "execution_count": 67,
   "metadata": {},
   "outputs": [
    {
     "data": {
      "text/plain": [
       "<Axes: title={'center': 'Distribution of generated numbers between 0 and 100 (512000 samples)'}, xlabel='Number', ylabel='Count'>"
      ]
     },
     "execution_count": 67,
     "metadata": {},
     "output_type": "execute_result"
    },
    {
     "data": {
      "image/png": "[encoded data removed]",
      "text/plain": [
       "<Figure size 640x480 with 1 Axes>"
      ]
     },
     "metadata": {},
     "output_type": "display_data"
    }
   ],
   "source": [
    "def clean_data(df_inference):\n",
    "    # Performed 1 aggregation grouped on column: 'Generated Numbers'\n",
    "    df_inference = (\n",
    "        df_inference.groupby([\"Generated Numbers\"])\n",
    "        .agg(Generated_numbers_count=(\"Generated Numbers\", \"count\"))\n",
    "        .reset_index()\n",
    "    )\n",
    "\n",
    "    # Normalize Generated_numbers_count into Generated_numbers_count_normalized\n",
    "    df_inference[\"Generated_numbers_count_normalized\"] = (\n",
    "        df_inference[\"Generated_numbers_count\"]\n",
    "        / df_inference[\"Generated_numbers_count\"].sum()\n",
    "    )\n",
    "\n",
    "    return df_inference\n",
    "\n",
    "\n",
    "df_inference_clean = clean_data(df_inference.copy())\n",
    "\n",
    "df_inference_clean.plot(\n",
    "    x=\"Generated Numbers\",\n",
    "    y=\"Generated_numbers_count_normalized\",\n",
    "    kind=\"line\",\n",
    "    title=f\"Distribution of generated numbers between 0 and {n_max} ({len(dist_inference)} samples)\",\n",
    "    xlabel=\"Number\",\n",
    "    ylabel=\"Count\",\n",
    "    xlim=(-11, 101),\n",
    "    ylim=(0, 0.012),\n",
    ")"
   ]
  }
 ],
 "metadata": {
  "accelerator": "GPU",
  "colab": {
   "provenance": []
  },
  "gpuClass": "standard",
  "kernelspec": {
   "display_name": "Python (myenv)",
   "language": "python",
   "name": "myenv"
  },
  "language_info": {
   "codemirror_mode": {
    "name": "ipython",
    "version": 3
   },
   "file_extension": ".py",
   "mimetype": "text/x-python",
   "name": "python",
   "nbconvert_exporter": "python",
   "pygments_lexer": "ipython3",
   "version": "3.10.11"
  }
 },
 "nbformat": 4,
 "nbformat_minor": 4
}
